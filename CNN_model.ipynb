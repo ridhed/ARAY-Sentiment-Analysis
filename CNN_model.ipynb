{
  "cells": [
    {
      "cell_type": "markdown",
      "metadata": {
        "id": "view-in-github",
        "colab_type": "text"
      },
      "source": [
        "<a href=\"https://colab.research.google.com/github/ridhed/ARAY-Sentiment-Analysis/blob/main/CNN_model.ipynb\" target=\"_parent\"><img src=\"https://colab.research.google.com/assets/colab-badge.svg\" alt=\"Open In Colab\"/></a>"
      ]
    },
    {
      "cell_type": "code",
      "execution_count": 12,
      "id": "3c408217",
      "metadata": {
        "id": "3c408217"
      },
      "outputs": [],
      "source": [
        "import pandas as pd\n",
        "from tensorflow.keras.preprocessing.text import Tokenizer\n",
        "from tensorflow.keras.preprocessing.sequence import pad_sequences\n",
        "from tensorflow.keras.models import Sequential\n",
        "from tensorflow.keras.layers import Dense, Embedding, LSTM, SpatialDropout1D\n",
        "from sklearn.model_selection import train_test_split\n",
        "from tensorflow.keras.utils import to_categorical\n",
        "from keras.layers.convolutional import Conv1D\n",
        "import re"
      ]
    },
    {
      "cell_type": "code",
      "execution_count": 2,
      "id": "716cce2d",
      "metadata": {
        "id": "716cce2d"
      },
      "outputs": [],
      "source": [
        "data = pd.read_csv('feedback_dataset.csv')"
      ]
    },
    {
      "cell_type": "code",
      "execution_count": 3,
      "id": "e36d87bf",
      "metadata": {
        "colab": {
          "base_uri": "https://localhost:8080/"
        },
        "id": "e36d87bf",
        "outputId": "739a956f-62bd-4ccb-832a-aad235c3e628"
      },
      "outputs": [
        {
          "output_type": "stream",
          "name": "stdout",
          "text": [
            "<class 'pandas.core.frame.DataFrame'>\n",
            "RangeIndex: 5200 entries, 0 to 5199\n",
            "Data columns (total 2 columns):\n",
            " #   Column     Non-Null Count  Dtype \n",
            "---  ------     --------------  ----- \n",
            " 0   text       5200 non-null   object\n",
            " 1   sentiment  5200 non-null   int64 \n",
            "dtypes: int64(1), object(1)\n",
            "memory usage: 81.4+ KB\n"
          ]
        }
      ],
      "source": [
        "data.info()"
      ]
    },
    {
      "cell_type": "code",
      "execution_count": 4,
      "id": "31a45484",
      "metadata": {
        "id": "31a45484"
      },
      "outputs": [],
      "source": [
        "def to_sentiment(sentiment):\n",
        "  sentiment = sentiment\n",
        "  if sentiment == 0:\n",
        "    return 'negative'\n",
        "  else: \n",
        "    return 'positive'\n",
        "data['sentiment'] = data.sentiment.apply(to_sentiment)"
      ]
    },
    {
      "cell_type": "code",
      "execution_count": 5,
      "id": "1c77d46c",
      "metadata": {
        "id": "1c77d46c"
      },
      "outputs": [],
      "source": [
        "def preProcess_data(text):\n",
        "   text = text.lower()\n",
        "   new_text = re.sub('[^a-zA-z0-9\\s]','',text)\n",
        "   new_text = re.sub('rt', '', new_text)\n",
        "   return new_text\n",
        "\n",
        "data['text'] = data['text'].apply(preProcess_data)"
      ]
    },
    {
      "cell_type": "code",
      "execution_count": 6,
      "id": "f371f84c",
      "metadata": {
        "id": "f371f84c"
      },
      "outputs": [],
      "source": [
        "max_fatures = 2000\n",
        "\n",
        "tokenizer = Tokenizer(num_words=max_fatures, split=' ')\n",
        "tokenizer.fit_on_texts(data['text'].values)\n",
        "X = tokenizer.texts_to_sequences(data['text'].values)\n",
        "X = pad_sequences(X, 28) \n",
        "\n",
        "Y = pd.get_dummies(data['sentiment']).values"
      ]
    },
    {
      "cell_type": "code",
      "execution_count": 7,
      "id": "109b8c7f",
      "metadata": {
        "colab": {
          "base_uri": "https://localhost:8080/"
        },
        "id": "109b8c7f",
        "outputId": "ddce22ba-57d4-428a-b83b-8b491a4a9e89"
      },
      "outputs": [
        {
          "output_type": "execute_result",
          "data": {
            "text/plain": [
              "array([[0, 1],\n",
              "       [0, 1],\n",
              "       [0, 1],\n",
              "       ...,\n",
              "       [1, 0],\n",
              "       [1, 0],\n",
              "       [1, 0]], dtype=uint8)"
            ]
          },
          "metadata": {},
          "execution_count": 7
        }
      ],
      "source": [
        "Y"
      ]
    },
    {
      "cell_type": "code",
      "execution_count": 8,
      "id": "40249e9a",
      "metadata": {
        "id": "40249e9a"
      },
      "outputs": [],
      "source": [
        "X_train, X_test, Y_train, Y_test = train_test_split(X,Y, test_size = 0.20)"
      ]
    },
    {
      "cell_type": "code",
      "execution_count": 13,
      "id": "8b57697e",
      "metadata": {
        "id": "8b57697e"
      },
      "outputs": [],
      "source": [
        "embed_dim = 128\n",
        "lstm_out = 196\n",
        "\n",
        "\n",
        "model = Sequential()\n",
        "model.add(Embedding(max_fatures, embed_dim,input_length = X.shape[1]))\n",
        "model.add(Conv1D(filters=128, kernel_size=5, activation='relu'))\n",
        "model.add(LSTM(lstm_out, dropout=0.3, recurrent_dropout=0.2, return_sequences=True))\n",
        "model.add(LSTM(128,recurrent_dropout=0.2))\n",
        "model.add(Dense(2,activation='softmax'))\n",
        "\n",
        "model.compile(loss = 'categorical_crossentropy', optimizer='adam',metrics = ['accuracy'])"
      ]
    },
    {
      "cell_type": "code",
      "execution_count": 15,
      "id": "9b3a945b",
      "metadata": {
        "colab": {
          "base_uri": "https://localhost:8080/"
        },
        "id": "9b3a945b",
        "outputId": "0c7b22d5-3e1d-4e5e-c37d-aca5737fd831"
      },
      "outputs": [
        {
          "output_type": "stream",
          "name": "stdout",
          "text": [
            "Epoch 1/50\n",
            "9/9 [==============================] - 12s 1s/step - loss: 0.6444 - accuracy: 0.6368 - val_loss: 0.6448 - val_accuracy: 0.6250\n",
            "Epoch 2/50\n",
            "9/9 [==============================] - 11s 1s/step - loss: 0.5777 - accuracy: 0.6851 - val_loss: 0.5652 - val_accuracy: 0.6894\n",
            "Epoch 3/50\n",
            "9/9 [==============================] - 11s 1s/step - loss: 0.4433 - accuracy: 0.8024 - val_loss: 0.4521 - val_accuracy: 0.7875\n",
            "Epoch 4/50\n",
            "9/9 [==============================] - 11s 1s/step - loss: 0.3075 - accuracy: 0.8700 - val_loss: 0.4205 - val_accuracy: 0.8183\n",
            "Epoch 5/50\n",
            "9/9 [==============================] - 11s 1s/step - loss: 0.2209 - accuracy: 0.9190 - val_loss: 0.4152 - val_accuracy: 0.8317\n",
            "Epoch 6/50\n",
            "9/9 [==============================] - 11s 1s/step - loss: 0.1773 - accuracy: 0.9375 - val_loss: 0.4433 - val_accuracy: 0.8394\n",
            "Epoch 7/50\n",
            "9/9 [==============================] - 11s 1s/step - loss: 0.1469 - accuracy: 0.9522 - val_loss: 0.4560 - val_accuracy: 0.8365\n",
            "Epoch 8/50\n",
            "9/9 [==============================] - 12s 1s/step - loss: 0.1230 - accuracy: 0.9606 - val_loss: 0.5003 - val_accuracy: 0.8404\n",
            "Epoch 9/50\n",
            "9/9 [==============================] - 11s 1s/step - loss: 0.1086 - accuracy: 0.9663 - val_loss: 0.5556 - val_accuracy: 0.8356\n",
            "Epoch 10/50\n",
            "9/9 [==============================] - 12s 1s/step - loss: 0.1100 - accuracy: 0.9639 - val_loss: 0.5692 - val_accuracy: 0.8394\n",
            "Epoch 11/50\n",
            "9/9 [==============================] - 11s 1s/step - loss: 0.0920 - accuracy: 0.9721 - val_loss: 0.5804 - val_accuracy: 0.8404\n",
            "Epoch 12/50\n",
            "9/9 [==============================] - 11s 1s/step - loss: 0.0910 - accuracy: 0.9704 - val_loss: 0.5531 - val_accuracy: 0.8385\n",
            "Epoch 13/50\n",
            "9/9 [==============================] - 11s 1s/step - loss: 0.0791 - accuracy: 0.9769 - val_loss: 0.5823 - val_accuracy: 0.8404\n",
            "Epoch 14/50\n",
            "9/9 [==============================] - 11s 1s/step - loss: 0.0705 - accuracy: 0.9779 - val_loss: 0.6538 - val_accuracy: 0.8481\n",
            "Epoch 15/50\n",
            "9/9 [==============================] - 11s 1s/step - loss: 0.0659 - accuracy: 0.9772 - val_loss: 0.6525 - val_accuracy: 0.8481\n",
            "Epoch 16/50\n",
            "9/9 [==============================] - 11s 1s/step - loss: 0.0607 - accuracy: 0.9796 - val_loss: 0.6756 - val_accuracy: 0.8452\n",
            "Epoch 17/50\n",
            "9/9 [==============================] - 11s 1s/step - loss: 0.0556 - accuracy: 0.9812 - val_loss: 0.7312 - val_accuracy: 0.8413\n",
            "Epoch 18/50\n",
            "9/9 [==============================] - 11s 1s/step - loss: 0.0556 - accuracy: 0.9805 - val_loss: 0.6862 - val_accuracy: 0.8452\n",
            "Epoch 19/50\n",
            "9/9 [==============================] - 11s 1s/step - loss: 0.0526 - accuracy: 0.9808 - val_loss: 0.6985 - val_accuracy: 0.8471\n",
            "Epoch 20/50\n",
            "9/9 [==============================] - 11s 1s/step - loss: 0.0481 - accuracy: 0.9825 - val_loss: 0.6905 - val_accuracy: 0.8471\n",
            "Epoch 21/50\n",
            "9/9 [==============================] - 11s 1s/step - loss: 0.0475 - accuracy: 0.9832 - val_loss: 0.7131 - val_accuracy: 0.8423\n",
            "Epoch 22/50\n",
            "9/9 [==============================] - 11s 1s/step - loss: 0.0465 - accuracy: 0.9817 - val_loss: 0.7366 - val_accuracy: 0.8404\n",
            "Epoch 23/50\n",
            "9/9 [==============================] - 11s 1s/step - loss: 0.0436 - accuracy: 0.9822 - val_loss: 0.7605 - val_accuracy: 0.8375\n",
            "Epoch 24/50\n",
            "9/9 [==============================] - 11s 1s/step - loss: 0.0424 - accuracy: 0.9846 - val_loss: 0.7845 - val_accuracy: 0.8404\n",
            "Epoch 25/50\n",
            "9/9 [==============================] - 11s 1s/step - loss: 0.0454 - accuracy: 0.9808 - val_loss: 0.8142 - val_accuracy: 0.8452\n",
            "Epoch 26/50\n",
            "9/9 [==============================] - 11s 1s/step - loss: 0.0476 - accuracy: 0.9820 - val_loss: 0.7196 - val_accuracy: 0.8308\n",
            "Epoch 27/50\n",
            "9/9 [==============================] - 11s 1s/step - loss: 0.0429 - accuracy: 0.9834 - val_loss: 0.8175 - val_accuracy: 0.8365\n",
            "Epoch 28/50\n",
            "9/9 [==============================] - 11s 1s/step - loss: 0.0393 - accuracy: 0.9829 - val_loss: 0.7773 - val_accuracy: 0.8375\n",
            "Epoch 29/50\n",
            "9/9 [==============================] - 11s 1s/step - loss: 0.0445 - accuracy: 0.9858 - val_loss: 0.8502 - val_accuracy: 0.8337\n",
            "Epoch 30/50\n",
            "9/9 [==============================] - 11s 1s/step - loss: 0.0403 - accuracy: 0.9849 - val_loss: 0.8291 - val_accuracy: 0.8462\n",
            "Epoch 31/50\n",
            "9/9 [==============================] - 11s 1s/step - loss: 0.0420 - accuracy: 0.9858 - val_loss: 0.8503 - val_accuracy: 0.8365\n",
            "Epoch 32/50\n",
            "9/9 [==============================] - 11s 1s/step - loss: 0.0410 - accuracy: 0.9870 - val_loss: 0.8278 - val_accuracy: 0.8375\n",
            "Epoch 33/50\n",
            "9/9 [==============================] - 11s 1s/step - loss: 0.0401 - accuracy: 0.9865 - val_loss: 0.7999 - val_accuracy: 0.8423\n",
            "Epoch 34/50\n",
            "9/9 [==============================] - 11s 1s/step - loss: 0.0366 - accuracy: 0.9863 - val_loss: 0.8317 - val_accuracy: 0.8433\n",
            "Epoch 35/50\n",
            "9/9 [==============================] - 11s 1s/step - loss: 0.0368 - accuracy: 0.9865 - val_loss: 0.7796 - val_accuracy: 0.8404\n",
            "Epoch 36/50\n",
            "9/9 [==============================] - 11s 1s/step - loss: 0.0342 - accuracy: 0.9877 - val_loss: 0.8417 - val_accuracy: 0.8500\n",
            "Epoch 37/50\n",
            "9/9 [==============================] - 11s 1s/step - loss: 0.0351 - accuracy: 0.9877 - val_loss: 0.8142 - val_accuracy: 0.8452\n",
            "Epoch 38/50\n",
            "9/9 [==============================] - 11s 1s/step - loss: 0.0327 - accuracy: 0.9877 - val_loss: 0.8243 - val_accuracy: 0.8404\n",
            "Epoch 39/50\n",
            "9/9 [==============================] - 11s 1s/step - loss: 0.0315 - accuracy: 0.9882 - val_loss: 0.8532 - val_accuracy: 0.8442\n",
            "Epoch 40/50\n",
            "9/9 [==============================] - 11s 1s/step - loss: 0.0309 - accuracy: 0.9880 - val_loss: 0.8948 - val_accuracy: 0.8423\n",
            "Epoch 41/50\n",
            "9/9 [==============================] - 11s 1s/step - loss: 0.0290 - accuracy: 0.9887 - val_loss: 0.9513 - val_accuracy: 0.8423\n",
            "Epoch 42/50\n",
            "9/9 [==============================] - 11s 1s/step - loss: 0.0336 - accuracy: 0.9875 - val_loss: 0.8835 - val_accuracy: 0.8433\n",
            "Epoch 43/50\n",
            "9/9 [==============================] - 11s 1s/step - loss: 0.0310 - accuracy: 0.9889 - val_loss: 0.8969 - val_accuracy: 0.8413\n",
            "Epoch 44/50\n",
            "9/9 [==============================] - 11s 1s/step - loss: 0.0316 - accuracy: 0.9875 - val_loss: 0.8476 - val_accuracy: 0.8346\n",
            "Epoch 45/50\n",
            "9/9 [==============================] - 11s 1s/step - loss: 0.0371 - accuracy: 0.9861 - val_loss: 0.8878 - val_accuracy: 0.8346\n",
            "Epoch 46/50\n",
            "9/9 [==============================] - 11s 1s/step - loss: 0.0363 - accuracy: 0.9858 - val_loss: 0.8237 - val_accuracy: 0.8356\n",
            "Epoch 47/50\n",
            "9/9 [==============================] - 11s 1s/step - loss: 0.0314 - accuracy: 0.9875 - val_loss: 0.8500 - val_accuracy: 0.8433\n",
            "Epoch 48/50\n",
            "9/9 [==============================] - 11s 1s/step - loss: 0.0296 - accuracy: 0.9868 - val_loss: 0.8921 - val_accuracy: 0.8471\n",
            "Epoch 49/50\n",
            "9/9 [==============================] - 11s 1s/step - loss: 0.0310 - accuracy: 0.9877 - val_loss: 0.8792 - val_accuracy: 0.8442\n",
            "Epoch 50/50\n",
            "9/9 [==============================] - 11s 1s/step - loss: 0.0271 - accuracy: 0.9887 - val_loss: 0.9169 - val_accuracy: 0.8404\n"
          ]
        },
        {
          "output_type": "execute_result",
          "data": {
            "text/plain": [
              "<keras.callbacks.History at 0x7fa9af0208d0>"
            ]
          },
          "metadata": {},
          "execution_count": 15
        }
      ],
      "source": [
        "batch_size = 512\n",
        "\n",
        "model.fit(X_train, Y_train, epochs = 50, batch_size=batch_size, validation_data=(X_test, Y_test))"
      ]
    },
    {
      "cell_type": "code",
      "execution_count": null,
      "id": "b4d86022",
      "metadata": {
        "id": "b4d86022"
      },
      "outputs": [],
      "source": [
        "# we have saved our model in ‘hdf5’ format\n",
        "model.save('sentiment.h5')"
      ]
    },
    {
      "cell_type": "code",
      "execution_count": null,
      "id": "c50b83dc",
      "metadata": {
        "id": "c50b83dc"
      },
      "outputs": [],
      "source": [
        ""
      ]
    }
  ],
  "metadata": {
    "kernelspec": {
      "display_name": "Python 3",
      "language": "python",
      "name": "python3"
    },
    "language_info": {
      "codemirror_mode": {
        "name": "ipython",
        "version": 3
      },
      "file_extension": ".py",
      "mimetype": "text/x-python",
      "name": "python",
      "nbconvert_exporter": "python",
      "pygments_lexer": "ipython3",
      "version": "3.8.8"
    },
    "colab": {
      "name": "CNN_model.ipynb",
      "provenance": [],
      "include_colab_link": true
    }
  },
  "nbformat": 4,
  "nbformat_minor": 5
}