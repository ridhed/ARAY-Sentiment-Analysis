{
 "cells": [
  {
   "cell_type": "code",
   "execution_count": 1,
   "id": "3c408217",
   "metadata": {},
   "outputs": [],
   "source": [
    "import pandas as pd\n",
    "from tensorflow.keras.preprocessing.text import Tokenizer\n",
    "from tensorflow.keras.preprocessing.sequence import pad_sequences\n",
    "from tensorflow.keras.models import Sequential\n",
    "from tensorflow.keras.layers import Dense, Embedding, LSTM, SpatialDropout1D\n",
    "from sklearn.model_selection import train_test_split\n",
    "from tensorflow.keras.utils import to_categorical\n",
    "import re"
   ]
  },
  {
   "cell_type": "code",
   "execution_count": 2,
   "id": "716cce2d",
   "metadata": {},
   "outputs": [],
   "source": [
    "data = pd.read_csv('feedback_dataset.csv')"
   ]
  },
  {
   "cell_type": "code",
   "execution_count": 3,
   "id": "e36d87bf",
   "metadata": {},
   "outputs": [
    {
     "name": "stdout",
     "output_type": "stream",
     "text": [
      "<class 'pandas.core.frame.DataFrame'>\n",
      "RangeIndex: 5200 entries, 0 to 5199\n",
      "Data columns (total 2 columns):\n",
      " #   Column     Non-Null Count  Dtype \n",
      "---  ------     --------------  ----- \n",
      " 0   text       5200 non-null   object\n",
      " 1   sentiment  5200 non-null   int64 \n",
      "dtypes: int64(1), object(1)\n",
      "memory usage: 81.4+ KB\n"
     ]
    }
   ],
   "source": [
    "data.info()"
   ]
  },
  {
   "cell_type": "code",
   "execution_count": 4,
   "id": "31a45484",
   "metadata": {},
   "outputs": [],
   "source": [
    "def to_sentiment(sentiment):\n",
    "  sentiment = sentiment\n",
    "  if sentiment == 0:\n",
    "    return 'negative'\n",
    "  else: \n",
    "    return 'positive'\n",
    "data['sentiment'] = data.sentiment.apply(to_sentiment)"
   ]
  },
  {
   "cell_type": "code",
   "execution_count": 5,
   "id": "1c77d46c",
   "metadata": {},
   "outputs": [],
   "source": [
    "def preProcess_data(text):\n",
    "   text = text.lower()\n",
    "   new_text = re.sub('[^a-zA-z0-9\\s]','',text)\n",
    "   new_text = re.sub('rt', '', new_text)\n",
    "   return new_text\n",
    "\n",
    "data['text'] = data['text'].apply(preProcess_data)"
   ]
  },
  {
   "cell_type": "code",
   "execution_count": 6,
   "id": "f371f84c",
   "metadata": {},
   "outputs": [],
   "source": [
    "max_fatures = 2000\n",
    "\n",
    "tokenizer = Tokenizer(num_words=max_fatures, split=' ')\n",
    "tokenizer.fit_on_texts(data['text'].values)\n",
    "X = tokenizer.texts_to_sequences(data['text'].values)\n",
    "X = pad_sequences(X, 28) \n",
    "\n",
    "Y = pd.get_dummies(data['sentiment']).values"
   ]
  },
  {
   "cell_type": "code",
   "execution_count": 7,
   "id": "109b8c7f",
   "metadata": {},
   "outputs": [
    {
     "data": {
      "text/plain": [
       "array([[0, 1],\n",
       "       [0, 1],\n",
       "       [0, 1],\n",
       "       ...,\n",
       "       [1, 0],\n",
       "       [1, 0],\n",
       "       [1, 0]], dtype=uint8)"
      ]
     },
     "execution_count": 7,
     "metadata": {},
     "output_type": "execute_result"
    }
   ],
   "source": [
    "Y"
   ]
  },
  {
   "cell_type": "code",
   "execution_count": 8,
   "id": "40249e9a",
   "metadata": {},
   "outputs": [],
   "source": [
    "X_train, X_test, Y_train, Y_test = train_test_split(X,Y, test_size = 0.20)"
   ]
  },
  {
   "cell_type": "code",
   "execution_count": 9,
   "id": "8b57697e",
   "metadata": {},
   "outputs": [],
   "source": [
    "embed_dim = 128\n",
    "lstm_out = 196\n",
    "\n",
    "model = Sequential()\n",
    "model.add(Embedding(max_fatures, embed_dim,input_length = X.shape[1]))\n",
    "model.add(SpatialDropout1D(0.4))\n",
    "model.add(LSTM(lstm_out, dropout=0.3, recurrent_dropout=0.2, return_sequences=True))\n",
    "model.add(LSTM(128,recurrent_dropout=0.2))\n",
    "model.add(Dense(2,activation='softmax'))\n",
    "\n",
    "model.compile(loss = 'categorical_crossentropy', optimizer='adam',metrics = ['accuracy'])"
   ]
  },
  {
   "cell_type": "code",
   "execution_count": 10,
   "id": "9b3a945b",
   "metadata": {},
   "outputs": [
    {
     "name": "stdout",
     "output_type": "stream",
     "text": [
      "Epoch 1/15\n",
      "9/9 [==============================] - 22s 1s/step - loss: 0.6730 - accuracy: 0.5591 - val_loss: 0.6581 - val_accuracy: 0.5933\n",
      "Epoch 2/15\n",
      "9/9 [==============================] - 10s 1s/step - loss: 0.6311 - accuracy: 0.6327 - val_loss: 0.6364 - val_accuracy: 0.6154\n",
      "Epoch 3/15\n",
      "9/9 [==============================] - 10s 1s/step - loss: 0.5859 - accuracy: 0.6733 - val_loss: 0.5914 - val_accuracy: 0.6683\n",
      "Epoch 4/15\n",
      "9/9 [==============================] - 9s 1s/step - loss: 0.5019 - accuracy: 0.7572 - val_loss: 0.4907 - val_accuracy: 0.7596\n",
      "Epoch 5/15\n",
      "9/9 [==============================] - 10s 1s/step - loss: 0.3858 - accuracy: 0.8373 - val_loss: 0.4231 - val_accuracy: 0.8260\n",
      "Epoch 6/15\n",
      "9/9 [==============================] - 10s 1s/step - loss: 0.3184 - accuracy: 0.8726 - val_loss: 0.3945 - val_accuracy: 0.8356\n",
      "Epoch 7/15\n",
      "9/9 [==============================] - 10s 1s/step - loss: 0.2667 - accuracy: 0.8959 - val_loss: 0.3660 - val_accuracy: 0.8462\n",
      "Epoch 8/15\n",
      "9/9 [==============================] - 10s 1s/step - loss: 0.2253 - accuracy: 0.9173 - val_loss: 0.3924 - val_accuracy: 0.8577\n",
      "Epoch 9/15\n",
      "9/9 [==============================] - 10s 1s/step - loss: 0.2017 - accuracy: 0.9276 - val_loss: 0.3818 - val_accuracy: 0.8606\n",
      "Epoch 10/15\n",
      "9/9 [==============================] - 10s 1s/step - loss: 0.1852 - accuracy: 0.9361 - val_loss: 0.3685 - val_accuracy: 0.8644\n",
      "Epoch 11/15\n",
      "9/9 [==============================] - 10s 1s/step - loss: 0.1665 - accuracy: 0.9428 - val_loss: 0.3919 - val_accuracy: 0.8635\n",
      "Epoch 12/15\n",
      "9/9 [==============================] - 10s 1s/step - loss: 0.1578 - accuracy: 0.9457 - val_loss: 0.3857 - val_accuracy: 0.8673\n",
      "Epoch 13/15\n",
      "9/9 [==============================] - 10s 1s/step - loss: 0.1477 - accuracy: 0.9529 - val_loss: 0.4250 - val_accuracy: 0.8587\n",
      "Epoch 14/15\n",
      "9/9 [==============================] - 10s 1s/step - loss: 0.1344 - accuracy: 0.9548 - val_loss: 0.4454 - val_accuracy: 0.8625\n",
      "Epoch 15/15\n",
      "9/9 [==============================] - 12s 1s/step - loss: 0.1219 - accuracy: 0.9587 - val_loss: 0.4323 - val_accuracy: 0.8663\n"
     ]
    },
    {
     "data": {
      "text/plain": [
       "<keras.callbacks.History at 0x21c3626a940>"
      ]
     },
     "execution_count": 10,
     "metadata": {},
     "output_type": "execute_result"
    }
   ],
   "source": [
    "batch_size = 512\n",
    "\n",
    "model.fit(X_train, Y_train, epochs = 15, batch_size=batch_size, validation_data=(X_test, Y_test))"
   ]
  },
  {
   "cell_type": "code",
   "execution_count": 11,
   "id": "b4d86022",
   "metadata": {},
   "outputs": [],
   "source": [
    "# we have saved our model in ‘hdf5’ format\n",
    "model.save('sentiment.h5')"
   ]
  },
  {
   "cell_type": "code",
   "execution_count": null,
   "id": "c50b83dc",
   "metadata": {},
   "outputs": [],
   "source": []
  }
 ],
 "metadata": {
  "kernelspec": {
   "display_name": "Python 3",
   "language": "python",
   "name": "python3"
  },
  "language_info": {
   "codemirror_mode": {
    "name": "ipython",
    "version": 3
   },
   "file_extension": ".py",
   "mimetype": "text/x-python",
   "name": "python",
   "nbconvert_exporter": "python",
   "pygments_lexer": "ipython3",
   "version": "3.8.8"
  }
 },
 "nbformat": 4,
 "nbformat_minor": 5
}
