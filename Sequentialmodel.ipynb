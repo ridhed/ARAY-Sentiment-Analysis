{
  "cells": [
    {
      "cell_type": "markdown",
      "metadata": {
        "id": "view-in-github",
        "colab_type": "text"
      },
      "source": [
        "<a href=\"https://colab.research.google.com/github/ridhed/ARAY-Sentiment-Analysis/blob/main/Sequentialmodel.ipynb\" target=\"_parent\"><img src=\"https://colab.research.google.com/assets/colab-badge.svg\" alt=\"Open In Colab\"/></a>"
      ]
    },
    {
      "cell_type": "code",
      "execution_count": 1,
      "id": "3c408217",
      "metadata": {
        "id": "3c408217"
      },
      "outputs": [],
      "source": [
        "import pandas as pd\n",
        "from tensorflow.keras.preprocessing.text import Tokenizer\n",
        "from tensorflow.keras.preprocessing.sequence import pad_sequences\n",
        "from tensorflow.keras.models import Sequential\n",
        "from tensorflow.keras.layers import Dense, Embedding, LSTM, SpatialDropout1D\n",
        "from sklearn.model_selection import train_test_split\n",
        "from tensorflow.keras.utils import to_categorical\n",
        "import re"
      ]
    },
    {
      "cell_type": "code",
      "execution_count": 2,
      "id": "716cce2d",
      "metadata": {
        "id": "716cce2d"
      },
      "outputs": [],
      "source": [
        "data = pd.read_csv('feedback_dataset.csv')"
      ]
    },
    {
      "cell_type": "code",
      "execution_count": 3,
      "id": "e36d87bf",
      "metadata": {
        "colab": {
          "base_uri": "https://localhost:8080/"
        },
        "id": "e36d87bf",
        "outputId": "3fc7e857-8618-4811-8acd-288016aab4bc"
      },
      "outputs": [
        {
          "output_type": "stream",
          "name": "stdout",
          "text": [
            "<class 'pandas.core.frame.DataFrame'>\n",
            "RangeIndex: 5200 entries, 0 to 5199\n",
            "Data columns (total 2 columns):\n",
            " #   Column     Non-Null Count  Dtype \n",
            "---  ------     --------------  ----- \n",
            " 0   text       5200 non-null   object\n",
            " 1   sentiment  5200 non-null   int64 \n",
            "dtypes: int64(1), object(1)\n",
            "memory usage: 81.4+ KB\n"
          ]
        }
      ],
      "source": [
        "data.info()"
      ]
    },
    {
      "cell_type": "code",
      "execution_count": 4,
      "id": "31a45484",
      "metadata": {
        "id": "31a45484"
      },
      "outputs": [],
      "source": [
        "def to_sentiment(sentiment):\n",
        "  sentiment = sentiment\n",
        "  if sentiment == 0:\n",
        "    return 'negative'\n",
        "  else: \n",
        "    return 'positive'\n",
        "data['sentiment'] = data.sentiment.apply(to_sentiment)"
      ]
    },
    {
      "cell_type": "code",
      "execution_count": 5,
      "id": "1c77d46c",
      "metadata": {
        "id": "1c77d46c"
      },
      "outputs": [],
      "source": [
        "def preProcess_data(text):\n",
        "   text = text.lower()\n",
        "   new_text = re.sub('[^a-zA-z0-9\\s]','',text)\n",
        "   new_text = re.sub('rt', '', new_text)\n",
        "   return new_text\n",
        "\n",
        "data['text'] = data['text'].apply(preProcess_data)"
      ]
    },
    {
      "cell_type": "code",
      "execution_count": 6,
      "id": "f371f84c",
      "metadata": {
        "id": "f371f84c"
      },
      "outputs": [],
      "source": [
        "max_fatures = 2000\n",
        "\n",
        "tokenizer = Tokenizer(num_words=max_fatures, split=' ')\n",
        "tokenizer.fit_on_texts(data['text'].values)\n",
        "X = tokenizer.texts_to_sequences(data['text'].values)\n",
        "X = pad_sequences(X, 28) \n",
        "\n",
        "Y = pd.get_dummies(data['sentiment']).values"
      ]
    },
    {
      "cell_type": "code",
      "execution_count": 7,
      "id": "109b8c7f",
      "metadata": {
        "colab": {
          "base_uri": "https://localhost:8080/"
        },
        "id": "109b8c7f",
        "outputId": "1f30c2df-0197-439f-ffe3-eada6a04b884"
      },
      "outputs": [
        {
          "output_type": "execute_result",
          "data": {
            "text/plain": [
              "array([[0, 1],\n",
              "       [0, 1],\n",
              "       [0, 1],\n",
              "       ...,\n",
              "       [1, 0],\n",
              "       [1, 0],\n",
              "       [1, 0]], dtype=uint8)"
            ]
          },
          "metadata": {},
          "execution_count": 7
        }
      ],
      "source": [
        "Y"
      ]
    },
    {
      "cell_type": "code",
      "execution_count": 8,
      "id": "40249e9a",
      "metadata": {
        "id": "40249e9a"
      },
      "outputs": [],
      "source": [
        "X_train, X_test, Y_train, Y_test = train_test_split(X,Y, test_size = 0.20)"
      ]
    },
    {
      "cell_type": "code",
      "execution_count": 9,
      "id": "8b57697e",
      "metadata": {
        "id": "8b57697e"
      },
      "outputs": [],
      "source": [
        "embed_dim = 128\n",
        "lstm_out = 196\n",
        "\n",
        "model = Sequential()\n",
        "model.add(Embedding(max_fatures, embed_dim,input_length = X.shape[1]))\n",
        "model.add(SpatialDropout1D(0.4))\n",
        "model.add(LSTM(lstm_out, dropout=0.3, recurrent_dropout=0.2, return_sequences=True))\n",
        "model.add(LSTM(128,recurrent_dropout=0.2))\n",
        "model.add(Dense(2,activation='softmax'))\n",
        "\n",
        "model.compile(loss = 'categorical_crossentropy', optimizer='adam',metrics = ['accuracy'])"
      ]
    },
    {
      "cell_type": "code",
      "execution_count": 10,
      "id": "9b3a945b",
      "metadata": {
        "colab": {
          "base_uri": "https://localhost:8080/"
        },
        "id": "9b3a945b",
        "outputId": "da9570c8-1fd7-42e6-f026-841c2c0ce435"
      },
      "outputs": [
        {
          "output_type": "stream",
          "name": "stdout",
          "text": [
            "Epoch 1/50\n",
            "9/9 [==============================] - 16s 1s/step - loss: 0.6719 - accuracy: 0.5757 - val_loss: 0.6479 - val_accuracy: 0.6288\n",
            "Epoch 2/50\n",
            "9/9 [==============================] - 10s 1s/step - loss: 0.6269 - accuracy: 0.6344 - val_loss: 0.6242 - val_accuracy: 0.6404\n",
            "Epoch 3/50\n",
            "9/9 [==============================] - 11s 1s/step - loss: 0.5932 - accuracy: 0.6776 - val_loss: 0.5701 - val_accuracy: 0.7038\n",
            "Epoch 4/50\n",
            "9/9 [==============================] - 11s 1s/step - loss: 0.5027 - accuracy: 0.7543 - val_loss: 0.4966 - val_accuracy: 0.7615\n",
            "Epoch 5/50\n",
            "9/9 [==============================] - 10s 1s/step - loss: 0.3916 - accuracy: 0.8221 - val_loss: 0.4328 - val_accuracy: 0.8077\n",
            "Epoch 6/50\n",
            "9/9 [==============================] - 10s 1s/step - loss: 0.3166 - accuracy: 0.8750 - val_loss: 0.4038 - val_accuracy: 0.8288\n",
            "Epoch 7/50\n",
            "9/9 [==============================] - 10s 1s/step - loss: 0.2680 - accuracy: 0.8959 - val_loss: 0.3894 - val_accuracy: 0.8471\n",
            "Epoch 8/50\n",
            "9/9 [==============================] - 11s 1s/step - loss: 0.2315 - accuracy: 0.9142 - val_loss: 0.3632 - val_accuracy: 0.8558\n",
            "Epoch 9/50\n",
            "9/9 [==============================] - 10s 1s/step - loss: 0.2038 - accuracy: 0.9293 - val_loss: 0.3831 - val_accuracy: 0.8567\n",
            "Epoch 10/50\n",
            "9/9 [==============================] - 10s 1s/step - loss: 0.1804 - accuracy: 0.9365 - val_loss: 0.3972 - val_accuracy: 0.8587\n",
            "Epoch 11/50\n",
            "9/9 [==============================] - 10s 1s/step - loss: 0.1641 - accuracy: 0.9445 - val_loss: 0.3932 - val_accuracy: 0.8510\n",
            "Epoch 12/50\n",
            "9/9 [==============================] - 10s 1s/step - loss: 0.1442 - accuracy: 0.9524 - val_loss: 0.4781 - val_accuracy: 0.8644\n",
            "Epoch 13/50\n",
            "9/9 [==============================] - 10s 1s/step - loss: 0.1413 - accuracy: 0.9524 - val_loss: 0.4374 - val_accuracy: 0.8510\n",
            "Epoch 14/50\n",
            "9/9 [==============================] - 11s 1s/step - loss: 0.1324 - accuracy: 0.9560 - val_loss: 0.4478 - val_accuracy: 0.8529\n",
            "Epoch 15/50\n",
            "9/9 [==============================] - 10s 1s/step - loss: 0.1254 - accuracy: 0.9577 - val_loss: 0.4529 - val_accuracy: 0.8567\n",
            "Epoch 16/50\n",
            "9/9 [==============================] - 11s 1s/step - loss: 0.1141 - accuracy: 0.9639 - val_loss: 0.4896 - val_accuracy: 0.8538\n",
            "Epoch 17/50\n",
            "9/9 [==============================] - 11s 1s/step - loss: 0.1118 - accuracy: 0.9618 - val_loss: 0.4639 - val_accuracy: 0.8471\n",
            "Epoch 18/50\n",
            "9/9 [==============================] - 11s 1s/step - loss: 0.1112 - accuracy: 0.9625 - val_loss: 0.5166 - val_accuracy: 0.8606\n",
            "Epoch 19/50\n",
            "9/9 [==============================] - 11s 1s/step - loss: 0.1005 - accuracy: 0.9683 - val_loss: 0.4964 - val_accuracy: 0.8500\n",
            "Epoch 20/50\n",
            "9/9 [==============================] - 10s 1s/step - loss: 0.0965 - accuracy: 0.9685 - val_loss: 0.5468 - val_accuracy: 0.8529\n",
            "Epoch 21/50\n",
            "9/9 [==============================] - 11s 1s/step - loss: 0.0972 - accuracy: 0.9661 - val_loss: 0.5360 - val_accuracy: 0.8500\n",
            "Epoch 22/50\n",
            "9/9 [==============================] - 11s 1s/step - loss: 0.0927 - accuracy: 0.9678 - val_loss: 0.5751 - val_accuracy: 0.8673\n",
            "Epoch 23/50\n",
            "9/9 [==============================] - 11s 1s/step - loss: 0.1037 - accuracy: 0.9659 - val_loss: 0.5522 - val_accuracy: 0.8365\n",
            "Epoch 24/50\n",
            "9/9 [==============================] - 12s 1s/step - loss: 0.0880 - accuracy: 0.9673 - val_loss: 0.5340 - val_accuracy: 0.8615\n",
            "Epoch 25/50\n",
            "9/9 [==============================] - 11s 1s/step - loss: 0.0850 - accuracy: 0.9675 - val_loss: 0.5285 - val_accuracy: 0.8587\n",
            "Epoch 26/50\n",
            "9/9 [==============================] - 11s 1s/step - loss: 0.0800 - accuracy: 0.9726 - val_loss: 0.5504 - val_accuracy: 0.8577\n",
            "Epoch 27/50\n",
            "9/9 [==============================] - 11s 1s/step - loss: 0.0725 - accuracy: 0.9750 - val_loss: 0.5777 - val_accuracy: 0.8558\n",
            "Epoch 28/50\n",
            "9/9 [==============================] - 11s 1s/step - loss: 0.0723 - accuracy: 0.9738 - val_loss: 0.6177 - val_accuracy: 0.8500\n",
            "Epoch 29/50\n",
            "9/9 [==============================] - 10s 1s/step - loss: 0.0758 - accuracy: 0.9743 - val_loss: 0.6154 - val_accuracy: 0.8500\n",
            "Epoch 30/50\n",
            "9/9 [==============================] - 11s 1s/step - loss: 0.0738 - accuracy: 0.9714 - val_loss: 0.6007 - val_accuracy: 0.8596\n",
            "Epoch 31/50\n",
            "9/9 [==============================] - 11s 1s/step - loss: 0.0660 - accuracy: 0.9776 - val_loss: 0.5799 - val_accuracy: 0.8615\n",
            "Epoch 32/50\n",
            "9/9 [==============================] - 10s 1s/step - loss: 0.0642 - accuracy: 0.9769 - val_loss: 0.5959 - val_accuracy: 0.8558\n",
            "Epoch 33/50\n",
            "9/9 [==============================] - 11s 1s/step - loss: 0.0626 - accuracy: 0.9769 - val_loss: 0.6208 - val_accuracy: 0.8529\n",
            "Epoch 34/50\n",
            "9/9 [==============================] - 10s 1s/step - loss: 0.0628 - accuracy: 0.9755 - val_loss: 0.6304 - val_accuracy: 0.8538\n",
            "Epoch 35/50\n",
            "9/9 [==============================] - 11s 1s/step - loss: 0.0588 - accuracy: 0.9779 - val_loss: 0.6393 - val_accuracy: 0.8577\n",
            "Epoch 36/50\n",
            "9/9 [==============================] - 11s 1s/step - loss: 0.0608 - accuracy: 0.9760 - val_loss: 0.6512 - val_accuracy: 0.8606\n",
            "Epoch 37/50\n",
            "9/9 [==============================] - 11s 1s/step - loss: 0.0563 - accuracy: 0.9786 - val_loss: 0.6631 - val_accuracy: 0.8596\n",
            "Epoch 38/50\n",
            "9/9 [==============================] - 10s 1s/step - loss: 0.0553 - accuracy: 0.9776 - val_loss: 0.6896 - val_accuracy: 0.8538\n",
            "Epoch 39/50\n",
            "9/9 [==============================] - 11s 1s/step - loss: 0.0575 - accuracy: 0.9769 - val_loss: 0.6950 - val_accuracy: 0.8625\n",
            "Epoch 40/50\n",
            "9/9 [==============================] - 10s 1s/step - loss: 0.0580 - accuracy: 0.9769 - val_loss: 0.6575 - val_accuracy: 0.8519\n",
            "Epoch 41/50\n",
            "9/9 [==============================] - 11s 1s/step - loss: 0.0531 - accuracy: 0.9800 - val_loss: 0.6867 - val_accuracy: 0.8596\n",
            "Epoch 42/50\n",
            "9/9 [==============================] - 11s 1s/step - loss: 0.0581 - accuracy: 0.9784 - val_loss: 0.6494 - val_accuracy: 0.8635\n",
            "Epoch 43/50\n",
            "9/9 [==============================] - 10s 1s/step - loss: 0.0562 - accuracy: 0.9798 - val_loss: 0.6792 - val_accuracy: 0.8587\n",
            "Epoch 44/50\n",
            "9/9 [==============================] - 10s 1s/step - loss: 0.0496 - accuracy: 0.9812 - val_loss: 0.6981 - val_accuracy: 0.8644\n",
            "Epoch 45/50\n",
            "9/9 [==============================] - 11s 1s/step - loss: 0.0508 - accuracy: 0.9786 - val_loss: 0.7501 - val_accuracy: 0.8587\n",
            "Epoch 46/50\n",
            "9/9 [==============================] - 10s 1s/step - loss: 0.0505 - accuracy: 0.9803 - val_loss: 0.7391 - val_accuracy: 0.8606\n",
            "Epoch 47/50\n",
            "9/9 [==============================] - 10s 1s/step - loss: 0.0511 - accuracy: 0.9796 - val_loss: 0.7228 - val_accuracy: 0.8625\n",
            "Epoch 48/50\n",
            "9/9 [==============================] - 10s 1s/step - loss: 0.0466 - accuracy: 0.9803 - val_loss: 0.7418 - val_accuracy: 0.8644\n",
            "Epoch 49/50\n",
            "9/9 [==============================] - 10s 1s/step - loss: 0.0463 - accuracy: 0.9812 - val_loss: 0.7625 - val_accuracy: 0.8587\n",
            "Epoch 50/50\n",
            "9/9 [==============================] - 10s 1s/step - loss: 0.0436 - accuracy: 0.9834 - val_loss: 0.7569 - val_accuracy: 0.8635\n"
          ]
        },
        {
          "output_type": "execute_result",
          "data": {
            "text/plain": [
              "<keras.callbacks.History at 0x7f1e95b4cad0>"
            ]
          },
          "metadata": {},
          "execution_count": 10
        }
      ],
      "source": [
        "batch_size = 512\n",
        "\n",
        "model.fit(X_train, Y_train, epochs = 50, batch_size=batch_size, validation_data=(X_test, Y_test))"
      ]
    },
    {
      "cell_type": "code",
      "execution_count": 11,
      "id": "b4d86022",
      "metadata": {
        "id": "b4d86022"
      },
      "outputs": [],
      "source": [
        "# we have saved our model in ‘hdf5’ format\n",
        "model.save('sentiment.h5')"
      ]
    },
    {
      "cell_type": "code",
      "execution_count": null,
      "id": "c50b83dc",
      "metadata": {
        "id": "c50b83dc"
      },
      "outputs": [],
      "source": [
        ""
      ]
    }
  ],
  "metadata": {
    "kernelspec": {
      "display_name": "Python 3",
      "language": "python",
      "name": "python3"
    },
    "language_info": {
      "codemirror_mode": {
        "name": "ipython",
        "version": 3
      },
      "file_extension": ".py",
      "mimetype": "text/x-python",
      "name": "python",
      "nbconvert_exporter": "python",
      "pygments_lexer": "ipython3",
      "version": "3.8.8"
    },
    "colab": {
      "name": "Sequentialmodel.ipynb",
      "provenance": [],
      "include_colab_link": true
    }
  },
  "nbformat": 4,
  "nbformat_minor": 5
}