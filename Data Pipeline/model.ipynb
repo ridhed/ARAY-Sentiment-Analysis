{
 "cells": [
  {
   "cell_type": "code",
   "execution_count": 13,
   "id": "3c408217",
   "metadata": {},
   "outputs": [],
   "source": [
    "import pandas as pd\n",
    "from tensorflow.keras.preprocessing.text import Tokenizer\n",
    "from tensorflow.keras.preprocessing.sequence import pad_sequences\n",
    "from tensorflow.keras.models import Sequential\n",
    "from tensorflow.keras.layers import Dense, Embedding, LSTM, SpatialDropout1D\n",
    "from sklearn.model_selection import train_test_split\n",
    "from tensorflow.keras.utils import to_categorical\n",
    "import re"
   ]
  },
  {
   "cell_type": "code",
   "execution_count": 40,
   "id": "716cce2d",
   "metadata": {},
   "outputs": [],
   "source": [
    "data = pd.read_csv('feedback_dataset.csv')"
   ]
  },
  {
   "cell_type": "code",
   "execution_count": 41,
   "id": "e36d87bf",
   "metadata": {},
   "outputs": [
    {
     "name": "stdout",
     "output_type": "stream",
     "text": [
      "<class 'pandas.core.frame.DataFrame'>\n",
      "RangeIndex: 5200 entries, 0 to 5199\n",
      "Data columns (total 2 columns):\n",
      " #   Column     Non-Null Count  Dtype \n",
      "---  ------     --------------  ----- \n",
      " 0   text       5200 non-null   object\n",
      " 1   sentiment  5200 non-null   int64 \n",
      "dtypes: int64(1), object(1)\n",
      "memory usage: 81.4+ KB\n"
     ]
    }
   ],
   "source": [
    "data.info()"
   ]
  },
  {
   "cell_type": "code",
   "execution_count": 43,
   "id": "31a45484",
   "metadata": {},
   "outputs": [],
   "source": [
    "def to_sentiment(sentiment):\n",
    "  sentiment = sentiment\n",
    "  if sentiment == 0:\n",
    "    return 'negative'\n",
    "  else: \n",
    "    return 'positive'\n",
    "data['sentiment'] = data.sentiment.apply(to_sentiment)"
   ]
  },
  {
   "cell_type": "code",
   "execution_count": 44,
   "id": "1c77d46c",
   "metadata": {},
   "outputs": [],
   "source": [
    "def preProcess_data(text):\n",
    "   text = text.lower()\n",
    "   new_text = re.sub('[^a-zA-z0-9\\s]','',text)\n",
    "   new_text = re.sub('rt', '', new_text)\n",
    "   return new_text\n",
    "\n",
    "data['text'] = data['text'].apply(preProcess_data)"
   ]
  },
  {
   "cell_type": "code",
   "execution_count": 51,
   "id": "f371f84c",
   "metadata": {},
   "outputs": [],
   "source": [
    "max_fatures = 2000\n",
    "\n",
    "tokenizer = Tokenizer(num_words=max_fatures, split=' ')\n",
    "tokenizer.fit_on_texts(data['text'].values)\n",
    "X = tokenizer.texts_to_sequences(data['text'].values)\n",
    "X = pad_sequences(X, 28) \n",
    "\n",
    "Y = pd.get_dummies(data['sentiment']).values"
   ]
  },
  {
   "cell_type": "code",
   "execution_count": 52,
   "id": "109b8c7f",
   "metadata": {},
   "outputs": [
    {
     "data": {
      "text/plain": [
       "array([[0, 1],\n",
       "       [0, 1],\n",
       "       [0, 1],\n",
       "       ...,\n",
       "       [1, 0],\n",
       "       [1, 0],\n",
       "       [1, 0]], dtype=uint8)"
      ]
     },
     "execution_count": 52,
     "metadata": {},
     "output_type": "execute_result"
    }
   ],
   "source": [
    "Y"
   ]
  },
  {
   "cell_type": "code",
   "execution_count": 53,
   "id": "40249e9a",
   "metadata": {},
   "outputs": [],
   "source": [
    "X_train, X_test, Y_train, Y_test = train_test_split(X,Y, test_size = 0.20)"
   ]
  },
  {
   "cell_type": "code",
   "execution_count": 56,
   "id": "8b57697e",
   "metadata": {},
   "outputs": [],
   "source": [
    "embed_dim = 128\n",
    "lstm_out = 196\n",
    "\n",
    "model = Sequential()\n",
    "model.add(Embedding(max_fatures, embed_dim,input_length = X.shape[1]))\n",
    "model.add(SpatialDropout1D(0.4))\n",
    "model.add(LSTM(lstm_out, dropout=0.3, recurrent_dropout=0.2, return_sequences=True))\n",
    "model.add(LSTM(128,recurrent_dropout=0.2))\n",
    "model.add(Dense(2,activation='softmax'))\n",
    "\n",
    "model.compile(loss = 'categorical_crossentropy', optimizer='adam',metrics = ['accuracy'])"
   ]
  },
  {
   "cell_type": "code",
   "execution_count": 57,
   "id": "9b3a945b",
   "metadata": {},
   "outputs": [
    {
     "name": "stdout",
     "output_type": "stream",
     "text": [
      "Epoch 1/10\n",
      "9/9 [==============================] - 18s 1s/step - loss: 0.6748 - accuracy: 0.5572 - val_loss: 0.6376 - val_accuracy: 0.6221\n",
      "Epoch 2/10\n",
      "9/9 [==============================] - 8s 901ms/step - loss: 0.6350 - accuracy: 0.6308 - val_loss: 0.6112 - val_accuracy: 0.6538\n",
      "Epoch 3/10\n",
      "9/9 [==============================] - 9s 1s/step - loss: 0.5989 - accuracy: 0.6726 - val_loss: 0.5704 - val_accuracy: 0.7000\n",
      "Epoch 4/10\n",
      "9/9 [==============================] - 9s 983ms/step - loss: 0.5273 - accuracy: 0.7303 - val_loss: 0.4884 - val_accuracy: 0.7625\n",
      "Epoch 5/10\n",
      "9/9 [==============================] - 10s 1s/step - loss: 0.4215 - accuracy: 0.8173 - val_loss: 0.4205 - val_accuracy: 0.8058\n",
      "Epoch 6/10\n",
      "9/9 [==============================] - 9s 990ms/step - loss: 0.3366 - accuracy: 0.8584 - val_loss: 0.3830 - val_accuracy: 0.8500\n",
      "Epoch 7/10\n",
      "9/9 [==============================] - 8s 938ms/step - loss: 0.2665 - accuracy: 0.8993 - val_loss: 0.3687 - val_accuracy: 0.8587\n",
      "Epoch 8/10\n",
      "9/9 [==============================] - 8s 908ms/step - loss: 0.2487 - accuracy: 0.9029 - val_loss: 0.3506 - val_accuracy: 0.8654\n",
      "Epoch 9/10\n",
      "9/9 [==============================] - 9s 954ms/step - loss: 0.2091 - accuracy: 0.9228 - val_loss: 0.3544 - val_accuracy: 0.8692\n",
      "Epoch 10/10\n",
      "9/9 [==============================] - 9s 948ms/step - loss: 0.1896 - accuracy: 0.9325 - val_loss: 0.3643 - val_accuracy: 0.8702\n"
     ]
    },
    {
     "data": {
      "text/plain": [
       "<keras.callbacks.History at 0x1892c09acd0>"
      ]
     },
     "execution_count": 57,
     "metadata": {},
     "output_type": "execute_result"
    }
   ],
   "source": [
    "batch_size = 512\n",
    "\n",
    "model.fit(X_train, Y_train, epochs = 10, batch_size=batch_size, validation_data=(X_test, Y_test))"
   ]
  },
  {
   "cell_type": "code",
   "execution_count": 58,
   "id": "b4d86022",
   "metadata": {},
   "outputs": [],
   "source": [
    "# we have saved our model in ‘hdf5’ format\n",
    "model.save('sentiment.h5')"
   ]
  },
  {
   "cell_type": "code",
   "execution_count": null,
   "id": "c50b83dc",
   "metadata": {},
   "outputs": [],
   "source": []
  }
 ],
 "metadata": {
  "kernelspec": {
   "display_name": "Python 3",
   "language": "python",
   "name": "python3"
  },
  "language_info": {
   "codemirror_mode": {
    "name": "ipython",
    "version": 3
   },
   "file_extension": ".py",
   "mimetype": "text/x-python",
   "name": "python",
   "nbconvert_exporter": "python",
   "pygments_lexer": "ipython3",
   "version": "3.8.8"
  }
 },
 "nbformat": 4,
 "nbformat_minor": 5
}
