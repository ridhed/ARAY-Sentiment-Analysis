{
 "cells": [
  {
   "cell_type": "code",
   "execution_count": 1,
   "id": "555688d2",
   "metadata": {},
   "outputs": [],
   "source": [
    "# Importing essential libraries for data processing\n",
    "import numpy as np\n",
    "import pandas as pd\n",
    "# For removing stopwords\n",
    "import re\n",
    "import nltk\n",
    "from nltk.corpus import stopwords\n",
    "#to find the root word\n",
    "from nltk.stem.porter import PorterStemmer \n",
    "# Creating the Bag of Words model\n",
    "from sklearn.feature_extraction.text import CountVectorizer\n",
    "# Importing essential models\n",
    "from sklearn.naive_bayes import MultinomialNB\n",
    "from sklearn.linear_model import LogisticRegression\n",
    "from sklearn.svm import SVC\n",
    "from sklearn.model_selection import train_test_split,GridSearchCV,RepeatedStratifiedKFold\n",
    "from sklearn.ensemble import RandomForestClassifier\n",
    "from xgboost import XGBClassifier\n",
    "# For calculating accuracy,recall,precision and confusion matrix\n",
    "from sklearn.metrics import classification_report,accuracy_score,confusion_matrix"
   ]
  },
  {
   "cell_type": "code",
   "execution_count": 2,
   "id": "f2ede25e",
   "metadata": {},
   "outputs": [],
   "source": [
    "# Loading the dataset\n",
    "messages = pd.read_csv('feedback_dataset.csv')"
   ]
  },
  {
   "cell_type": "code",
   "execution_count": 3,
   "id": "6d9c9c40",
   "metadata": {},
   "outputs": [
    {
     "data": {
      "text/plain": [
       "(5200, 2)"
      ]
     },
     "execution_count": 3,
     "metadata": {},
     "output_type": "execute_result"
    }
   ],
   "source": [
    "messages.shape"
   ]
  },
  {
   "cell_type": "code",
   "execution_count": 4,
   "id": "14e21576",
   "metadata": {},
   "outputs": [
    {
     "name": "stdout",
     "output_type": "stream",
     "text": [
      "<class 'pandas.core.frame.DataFrame'>\n",
      "RangeIndex: 5200 entries, 0 to 5199\n",
      "Data columns (total 2 columns):\n",
      " #   Column     Non-Null Count  Dtype \n",
      "---  ------     --------------  ----- \n",
      " 0   text       5200 non-null   object\n",
      " 1   sentiment  5200 non-null   int64 \n",
      "dtypes: int64(1), object(1)\n",
      "memory usage: 81.4+ KB\n"
     ]
    }
   ],
   "source": [
    "messages.info()"
   ]
  },
  {
   "cell_type": "code",
   "execution_count": 5,
   "id": "9c912843",
   "metadata": {},
   "outputs": [
    {
     "data": {
      "text/plain": [
       "Index(['text', 'sentiment'], dtype='object')"
      ]
     },
     "execution_count": 5,
     "metadata": {},
     "output_type": "execute_result"
    }
   ],
   "source": [
    "messages.columns"
   ]
  },
  {
   "cell_type": "code",
   "execution_count": 6,
   "id": "b91fad6d",
   "metadata": {},
   "outputs": [
    {
     "data": {
      "text/html": [
       "<div>\n",
       "<style scoped>\n",
       "    .dataframe tbody tr th:only-of-type {\n",
       "        vertical-align: middle;\n",
       "    }\n",
       "\n",
       "    .dataframe tbody tr th {\n",
       "        vertical-align: top;\n",
       "    }\n",
       "\n",
       "    .dataframe thead th {\n",
       "        text-align: right;\n",
       "    }\n",
       "</style>\n",
       "<table border=\"1\" class=\"dataframe\">\n",
       "  <thead>\n",
       "    <tr style=\"text-align: right;\">\n",
       "      <th></th>\n",
       "      <th>text</th>\n",
       "      <th>sentiment</th>\n",
       "    </tr>\n",
       "  </thead>\n",
       "  <tbody>\n",
       "    <tr>\n",
       "      <th>0</th>\n",
       "      <td>Display is excellent and camera is as good as ...</td>\n",
       "      <td>1</td>\n",
       "    </tr>\n",
       "    <tr>\n",
       "      <th>1</th>\n",
       "      <td>Battery life is also great!</td>\n",
       "      <td>1</td>\n",
       "    </tr>\n",
       "    <tr>\n",
       "      <th>2</th>\n",
       "      <td>Protects the phone on all sides.</td>\n",
       "      <td>1</td>\n",
       "    </tr>\n",
       "    <tr>\n",
       "      <th>3</th>\n",
       "      <td>Clear Skype Calls, Long Battery Life, Long Range.</td>\n",
       "      <td>1</td>\n",
       "    </tr>\n",
       "    <tr>\n",
       "      <th>4</th>\n",
       "      <td>Great Hands Free Device.</td>\n",
       "      <td>1</td>\n",
       "    </tr>\n",
       "  </tbody>\n",
       "</table>\n",
       "</div>"
      ],
      "text/plain": [
       "                                                text  sentiment\n",
       "0  Display is excellent and camera is as good as ...          1\n",
       "1                        Battery life is also great!          1\n",
       "2                   Protects the phone on all sides.          1\n",
       "3  Clear Skype Calls, Long Battery Life, Long Range.          1\n",
       "4                           Great Hands Free Device.          1"
      ]
     },
     "execution_count": 6,
     "metadata": {},
     "output_type": "execute_result"
    }
   ],
   "source": [
    "messages.head()"
   ]
  },
  {
   "cell_type": "markdown",
   "id": "fb122dba",
   "metadata": {},
   "source": [
    "# "
   ]
  },
  {
   "cell_type": "markdown",
   "id": "9bf1c939",
   "metadata": {},
   "source": [
    "# Data Cleaning & Preprocessing"
   ]
  },
  {
   "cell_type": "code",
   "execution_count": 7,
   "id": "2be2a4ff",
   "metadata": {},
   "outputs": [
    {
     "data": {
      "text/plain": [
       "array([1, 0], dtype=int64)"
      ]
     },
     "execution_count": 7,
     "metadata": {},
     "output_type": "execute_result"
    }
   ],
   "source": [
    "messages.sentiment.unique()"
   ]
  },
  {
   "cell_type": "code",
   "execution_count": 8,
   "id": "a58ea87b",
   "metadata": {},
   "outputs": [],
   "source": [
    "def to_sentiment(sentiment):\n",
    "  sentiment = sentiment\n",
    "  if sentiment == 0:\n",
    "    return 'negative'\n",
    "  else: \n",
    "    return 'positive'\n",
    "messages['target'] = messages.sentiment.apply(to_sentiment)"
   ]
  },
  {
   "cell_type": "code",
   "execution_count": 9,
   "id": "fb2dd30c",
   "metadata": {},
   "outputs": [
    {
     "data": {
      "text/plain": [
       "0       positive\n",
       "1       positive\n",
       "2       positive\n",
       "3       positive\n",
       "4       positive\n",
       "          ...   \n",
       "5195    negative\n",
       "5196    negative\n",
       "5197    negative\n",
       "5198    negative\n",
       "5199    negative\n",
       "Name: target, Length: 5200, dtype: object"
      ]
     },
     "execution_count": 9,
     "metadata": {},
     "output_type": "execute_result"
    }
   ],
   "source": [
    "messages['target']"
   ]
  },
  {
   "cell_type": "code",
   "execution_count": 10,
   "id": "bc6eafb1",
   "metadata": {},
   "outputs": [
    {
     "name": "stderr",
     "output_type": "stream",
     "text": [
      "[nltk_data] Downloading package stopwords to\n",
      "[nltk_data]     C:\\Users\\user\\AppData\\Roaming\\nltk_data...\n",
      "[nltk_data]   Package stopwords is already up-to-date!\n"
     ]
    }
   ],
   "source": [
    "nltk.download('stopwords')\n",
    "ps = PorterStemmer()\n",
    "corpus = []"
   ]
  },
  {
   "cell_type": "code",
   "execution_count": 11,
   "id": "e2b506c5",
   "metadata": {},
   "outputs": [],
   "source": [
    "for i in range (0,len(messages)):\n",
    "    # Cleaning special character from the reviews\n",
    "    feedback = re.sub('[^a-zA-Z]',' ',str(messages['text'][i]))\n",
    "    \n",
    "    # Converting the entire feedback into lower case\n",
    "    feedback = feedback.lower()\n",
    "    \n",
    "    # Tokenizing the feedback by words\n",
    "    feedback_words = feedback.split()\n",
    "    \n",
    "    # Stemming the words and removing the stopwords\n",
    "    feedback = [ps.stem(word) for word in feedback_words if not word in set(stopwords.words('english')) ]\n",
    "    \n",
    "    # Joining the stemmed words\n",
    "    feedback = ' '.join(feedback)\n",
    "\n",
    "    # Creating a corpus\n",
    "    corpus.append(feedback)"
   ]
  },
  {
   "cell_type": "code",
   "execution_count": 12,
   "id": "8d19b3c3",
   "metadata": {},
   "outputs": [],
   "source": [
    "    messages['feedback'] = pd.DataFrame(corpus)"
   ]
  },
  {
   "cell_type": "code",
   "execution_count": 13,
   "id": "7bf8a4c6",
   "metadata": {},
   "outputs": [
    {
     "data": {
      "text/html": [
       "<div>\n",
       "<style scoped>\n",
       "    .dataframe tbody tr th:only-of-type {\n",
       "        vertical-align: middle;\n",
       "    }\n",
       "\n",
       "    .dataframe tbody tr th {\n",
       "        vertical-align: top;\n",
       "    }\n",
       "\n",
       "    .dataframe thead th {\n",
       "        text-align: right;\n",
       "    }\n",
       "</style>\n",
       "<table border=\"1\" class=\"dataframe\">\n",
       "  <thead>\n",
       "    <tr style=\"text-align: right;\">\n",
       "      <th></th>\n",
       "      <th>text</th>\n",
       "      <th>sentiment</th>\n",
       "      <th>target</th>\n",
       "      <th>feedback</th>\n",
       "    </tr>\n",
       "  </thead>\n",
       "  <tbody>\n",
       "    <tr>\n",
       "      <th>0</th>\n",
       "      <td>Display is excellent and camera is as good as ...</td>\n",
       "      <td>1</td>\n",
       "      <td>positive</td>\n",
       "      <td>display excel camera good year</td>\n",
       "    </tr>\n",
       "    <tr>\n",
       "      <th>1</th>\n",
       "      <td>Battery life is also great!</td>\n",
       "      <td>1</td>\n",
       "      <td>positive</td>\n",
       "      <td>batteri life also great</td>\n",
       "    </tr>\n",
       "    <tr>\n",
       "      <th>2</th>\n",
       "      <td>Protects the phone on all sides.</td>\n",
       "      <td>1</td>\n",
       "      <td>positive</td>\n",
       "      <td>protect phone side</td>\n",
       "    </tr>\n",
       "    <tr>\n",
       "      <th>3</th>\n",
       "      <td>Clear Skype Calls, Long Battery Life, Long Range.</td>\n",
       "      <td>1</td>\n",
       "      <td>positive</td>\n",
       "      <td>clear skype call long batteri life long rang</td>\n",
       "    </tr>\n",
       "    <tr>\n",
       "      <th>4</th>\n",
       "      <td>Great Hands Free Device.</td>\n",
       "      <td>1</td>\n",
       "      <td>positive</td>\n",
       "      <td>great hand free devic</td>\n",
       "    </tr>\n",
       "    <tr>\n",
       "      <th>...</th>\n",
       "      <td>...</td>\n",
       "      <td>...</td>\n",
       "      <td>...</td>\n",
       "      <td>...</td>\n",
       "    </tr>\n",
       "    <tr>\n",
       "      <th>5195</th>\n",
       "      <td>Very rough handling</td>\n",
       "      <td>0</td>\n",
       "      <td>negative</td>\n",
       "      <td>rough handl</td>\n",
       "    </tr>\n",
       "    <tr>\n",
       "      <th>5196</th>\n",
       "      <td>yeah quite well but ... some of the books are ...</td>\n",
       "      <td>0</td>\n",
       "      <td>negative</td>\n",
       "      <td>yeah quit well book avail</td>\n",
       "    </tr>\n",
       "    <tr>\n",
       "      <th>5197</th>\n",
       "      <td>uncertain</td>\n",
       "      <td>0</td>\n",
       "      <td>negative</td>\n",
       "      <td>uncertain</td>\n",
       "    </tr>\n",
       "    <tr>\n",
       "      <th>5198</th>\n",
       "      <td>Average</td>\n",
       "      <td>0</td>\n",
       "      <td>negative</td>\n",
       "      <td>averag</td>\n",
       "    </tr>\n",
       "    <tr>\n",
       "      <th>5199</th>\n",
       "      <td>Excellent     but sometimes lack of books espe...</td>\n",
       "      <td>0</td>\n",
       "      <td>negative</td>\n",
       "      <td>excel sometim lack book especi exam time</td>\n",
       "    </tr>\n",
       "  </tbody>\n",
       "</table>\n",
       "<p>5200 rows × 4 columns</p>\n",
       "</div>"
      ],
      "text/plain": [
       "                                                   text  sentiment    target  \\\n",
       "0     Display is excellent and camera is as good as ...          1  positive   \n",
       "1                           Battery life is also great!          1  positive   \n",
       "2                      Protects the phone on all sides.          1  positive   \n",
       "3     Clear Skype Calls, Long Battery Life, Long Range.          1  positive   \n",
       "4                              Great Hands Free Device.          1  positive   \n",
       "...                                                 ...        ...       ...   \n",
       "5195                                Very rough handling          0  negative   \n",
       "5196  yeah quite well but ... some of the books are ...          0  negative   \n",
       "5197                                          uncertain          0  negative   \n",
       "5198                                            Average          0  negative   \n",
       "5199  Excellent     but sometimes lack of books espe...          0  negative   \n",
       "\n",
       "                                          feedback  \n",
       "0                   display excel camera good year  \n",
       "1                          batteri life also great  \n",
       "2                               protect phone side  \n",
       "3     clear skype call long batteri life long rang  \n",
       "4                            great hand free devic  \n",
       "...                                            ...  \n",
       "5195                                   rough handl  \n",
       "5196                     yeah quit well book avail  \n",
       "5197                                     uncertain  \n",
       "5198                                        averag  \n",
       "5199      excel sometim lack book especi exam time  \n",
       "\n",
       "[5200 rows x 4 columns]"
      ]
     },
     "execution_count": 13,
     "metadata": {},
     "output_type": "execute_result"
    }
   ],
   "source": [
    "messages"
   ]
  },
  {
   "cell_type": "code",
   "execution_count": 14,
   "id": "0f974508",
   "metadata": {},
   "outputs": [
    {
     "data": {
      "text/plain": [
       "['display excel camera good year',\n",
       " 'batteri life also great',\n",
       " 'protect phone side',\n",
       " 'clear skype call long batteri life long rang',\n",
       " 'great hand free devic',\n",
       " 'even take self portrait outsid exterior display cool',\n",
       " 'tri mani mani handsfre gadget one final work well',\n",
       " 'magic help',\n",
       " 'best phone market',\n",
       " 'work well']"
      ]
     },
     "execution_count": 14,
     "metadata": {},
     "output_type": "execute_result"
    }
   ],
   "source": [
    "corpus[0:10]"
   ]
  },
  {
   "cell_type": "code",
   "execution_count": 15,
   "id": "80efb902",
   "metadata": {},
   "outputs": [],
   "source": [
    "cv = CountVectorizer(max_features=1500)\n",
    "X = cv.fit_transform(corpus).toarray()\n",
    "y = messages['target'].values"
   ]
  },
  {
   "cell_type": "code",
   "execution_count": 16,
   "id": "d81f0f81",
   "metadata": {},
   "outputs": [
    {
     "data": {
      "text/plain": [
       "(5200, 1500)"
      ]
     },
     "execution_count": 16,
     "metadata": {},
     "output_type": "execute_result"
    }
   ],
   "source": [
    "X.shape"
   ]
  },
  {
   "cell_type": "code",
   "execution_count": 17,
   "id": "6665da9c",
   "metadata": {},
   "outputs": [
    {
     "data": {
      "text/plain": [
       "(5200,)"
      ]
     },
     "execution_count": 17,
     "metadata": {},
     "output_type": "execute_result"
    }
   ],
   "source": [
    "y.shape"
   ]
  },
  {
   "cell_type": "markdown",
   "id": "076481e9",
   "metadata": {},
   "source": [
    "# Training Model"
   ]
  },
  {
   "cell_type": "code",
   "execution_count": 18,
   "id": "b3b2a2a1",
   "metadata": {},
   "outputs": [],
   "source": [
    "X_train, X_test, y_train, y_test = train_test_split(X, y, test_size = 0.20, random_state = 0)"
   ]
  },
  {
   "cell_type": "markdown",
   "id": "d93dcefd",
   "metadata": {},
   "source": [
    "# Naive Bayes (MulitinomialNB)"
   ]
  },
  {
   "cell_type": "code",
   "execution_count": 19,
   "id": "74d6d7cf",
   "metadata": {},
   "outputs": [
    {
     "name": "stdout",
     "output_type": "stream",
     "text": [
      "Training Accuracy : 0.8754807692307692\n",
      "Testing Accuracy : 0.8144230769230769\n"
     ]
    }
   ],
   "source": [
    "# Fitting Naive Bayes to the Training set\n",
    "classifier = MultinomialNB()\n",
    "classifier.fit(X_train, y_train)\n",
    "\n",
    "# calculating the classification accuracies\n",
    "print(\"Training Accuracy :\", classifier.score(X_train, y_train))\n",
    "print(\"Testing Accuracy :\", classifier.score(X_test, y_test))"
   ]
  },
  {
   "cell_type": "code",
   "execution_count": 20,
   "id": "a6d3f346",
   "metadata": {},
   "outputs": [],
   "source": [
    "# Predicting the Test set results\n",
    "y_pred = classifier.predict(X_test)"
   ]
  },
  {
   "cell_type": "code",
   "execution_count": 21,
   "id": "3b068c75",
   "metadata": {},
   "outputs": [
    {
     "name": "stdout",
     "output_type": "stream",
     "text": [
      "              precision    recall  f1-score   support\n",
      "\n",
      "    negative       0.84      0.79      0.81       529\n",
      "    positive       0.79      0.84      0.82       511\n",
      "\n",
      "    accuracy                           0.81      1040\n",
      "   macro avg       0.82      0.81      0.81      1040\n",
      "weighted avg       0.82      0.81      0.81      1040\n",
      "\n"
     ]
    }
   ],
   "source": [
    "print(classification_report(y_test, y_pred))"
   ]
  },
  {
   "cell_type": "code",
   "execution_count": 22,
   "id": "e3ead045",
   "metadata": {},
   "outputs": [
    {
     "name": "stdout",
     "output_type": "stream",
     "text": [
      "---- Scores ----\n",
      "Accuracy score is: 81.44%\n"
     ]
    }
   ],
   "source": [
    "# Accuracy\n",
    "score1 = accuracy_score(y_test,y_pred)\n",
    "print(\"---- Scores ----\")\n",
    "print(\"Accuracy score is: {}%\".format(round(score1*100,2)))"
   ]
  },
  {
   "cell_type": "code",
   "execution_count": 23,
   "id": "bf940251",
   "metadata": {},
   "outputs": [
    {
     "data": {
      "text/plain": [
       "array([[417, 112],\n",
       "       [ 81, 430]], dtype=int64)"
      ]
     },
     "execution_count": 23,
     "metadata": {},
     "output_type": "execute_result"
    }
   ],
   "source": [
    "# Making the Confusion Matrix\n",
    "cm = confusion_matrix(y_test, y_pred)\n",
    "cm"
   ]
  },
  {
   "cell_type": "code",
   "execution_count": 24,
   "id": "1bfb7db1",
   "metadata": {},
   "outputs": [
    {
     "name": "stdout",
     "output_type": "stream",
     "text": [
      "Accuracy score for alpha=0.1 is: 80.58%\n",
      "Accuracy score for alpha=0.2 is: 80.58%\n",
      "Accuracy score for alpha=0.3 is: 80.87%\n",
      "Accuracy score for alpha=0.4 is: 81.06%\n",
      "Accuracy score for alpha=0.5 is: 81.25%\n",
      "Accuracy score for alpha=0.6 is: 80.96%\n",
      "Accuracy score for alpha=0.7 is: 81.06%\n",
      "Accuracy score for alpha=0.8 is: 81.25%\n",
      "Accuracy score for alpha=0.9 is: 81.35%\n",
      "Accuracy score for alpha=1.0 is: 81.44%\n",
      "--------------------------------------------\n",
      "The best accuracy is 81.44% with alpha value as 1.0\n"
     ]
    }
   ],
   "source": [
    "# Hyperparameter tuning the Naive Bayes Classifier\n",
    "best_accuracy = 0.0\n",
    "alpha_val = 0.0\n",
    "for i in np.arange(0.1,1.1,0.1):\n",
    "  temp_classifier = MultinomialNB(alpha=i)\n",
    "  temp_classifier.fit(X_train, y_train)\n",
    "  temp_y_pred = temp_classifier.predict(X_test)\n",
    "  score = accuracy_score(y_test, temp_y_pred)\n",
    "  print(\"Accuracy score for alpha={} is: {}%\".format(round(i,1), round(score*100,2)))\n",
    "  if score>best_accuracy:\n",
    "    best_accuracy = score\n",
    "    alpha_val = i\n",
    "print('--------------------------------------------')\n",
    "print('The best accuracy is {}% with alpha value as {}'.format(round(best_accuracy*100, 2), round(alpha_val,1)))"
   ]
  },
  {
   "cell_type": "markdown",
   "id": "b56ffd64",
   "metadata": {},
   "source": [
    "# Support Vector Machine Classifier"
   ]
  },
  {
   "cell_type": "code",
   "execution_count": 25,
   "id": "3581a5b4",
   "metadata": {},
   "outputs": [
    {
     "name": "stdout",
     "output_type": "stream",
     "text": [
      "Training Accuracy : 0.9495192307692307\n",
      "Testing Accuracy : 0.8355769230769231\n"
     ]
    }
   ],
   "source": [
    "model = SVC()\n",
    "model.fit(X_train, y_train)\n",
    "\n",
    "# calculating the classification accuracies\n",
    "print(\"Training Accuracy :\", model.score(X_train, y_train))\n",
    "print(\"Testing Accuracy :\", model.score(X_test, y_test))"
   ]
  },
  {
   "cell_type": "code",
   "execution_count": 26,
   "id": "eded826a",
   "metadata": {},
   "outputs": [],
   "source": [
    "# Predicting the Test set results\n",
    "y_pred = model.predict(X_test)"
   ]
  },
  {
   "cell_type": "code",
   "execution_count": 27,
   "id": "10f5bc03",
   "metadata": {},
   "outputs": [
    {
     "name": "stdout",
     "output_type": "stream",
     "text": [
      "              precision    recall  f1-score   support\n",
      "\n",
      "    negative       0.80      0.91      0.85       529\n",
      "    positive       0.89      0.76      0.82       511\n",
      "\n",
      "    accuracy                           0.84      1040\n",
      "   macro avg       0.84      0.83      0.83      1040\n",
      "weighted avg       0.84      0.84      0.83      1040\n",
      "\n"
     ]
    }
   ],
   "source": [
    "print(classification_report(y_test, y_pred))"
   ]
  },
  {
   "cell_type": "code",
   "execution_count": 28,
   "id": "7e2810ab",
   "metadata": {
    "scrolled": true
   },
   "outputs": [
    {
     "name": "stdout",
     "output_type": "stream",
     "text": [
      "---- Scores ----\n",
      "Accuracy score is: 83.56%\n"
     ]
    }
   ],
   "source": [
    "# Accuracy\n",
    "score1 = accuracy_score(y_test,y_pred)\n",
    "print(\"---- Scores ----\")\n",
    "print(\"Accuracy score is: {}%\".format(round(score1*100,2)))"
   ]
  },
  {
   "cell_type": "code",
   "execution_count": 29,
   "id": "606d9207",
   "metadata": {},
   "outputs": [
    {
     "data": {
      "text/plain": [
       "array([[480,  49],\n",
       "       [122, 389]], dtype=int64)"
      ]
     },
     "execution_count": 29,
     "metadata": {},
     "output_type": "execute_result"
    }
   ],
   "source": [
    "# Making the Confusion Matrix\n",
    "cm = confusion_matrix(y_test, y_pred)\n",
    "cm"
   ]
  },
  {
   "cell_type": "code",
   "execution_count": 30,
   "id": "128270f7",
   "metadata": {},
   "outputs": [
    {
     "name": "stdout",
     "output_type": "stream",
     "text": [
      "Fitting 5 folds for each of 25 candidates, totalling 125 fits\n",
      "[CV 1/5] END .....................C=0.1, gamma=1, kernel=rbf; total time=  14.8s\n",
      "[CV 2/5] END .....................C=0.1, gamma=1, kernel=rbf; total time=  13.3s\n",
      "[CV 3/5] END .....................C=0.1, gamma=1, kernel=rbf; total time=  14.4s\n",
      "[CV 4/5] END .....................C=0.1, gamma=1, kernel=rbf; total time=  13.6s\n",
      "[CV 5/5] END .....................C=0.1, gamma=1, kernel=rbf; total time=  13.9s\n",
      "[CV 1/5] END ...................C=0.1, gamma=0.1, kernel=rbf; total time=  14.1s\n",
      "[CV 2/5] END ...................C=0.1, gamma=0.1, kernel=rbf; total time=  13.9s\n",
      "[CV 3/5] END ...................C=0.1, gamma=0.1, kernel=rbf; total time=  13.7s\n",
      "[CV 4/5] END ...................C=0.1, gamma=0.1, kernel=rbf; total time=  14.1s\n",
      "[CV 5/5] END ...................C=0.1, gamma=0.1, kernel=rbf; total time=  13.8s\n",
      "[CV 1/5] END ..................C=0.1, gamma=0.01, kernel=rbf; total time=  16.3s\n",
      "[CV 2/5] END ..................C=0.1, gamma=0.01, kernel=rbf; total time=  16.3s\n",
      "[CV 3/5] END ..................C=0.1, gamma=0.01, kernel=rbf; total time=  16.3s\n",
      "[CV 4/5] END ..................C=0.1, gamma=0.01, kernel=rbf; total time=  16.3s\n",
      "[CV 5/5] END ..................C=0.1, gamma=0.01, kernel=rbf; total time=  16.2s\n",
      "[CV 1/5] END .................C=0.1, gamma=0.001, kernel=rbf; total time=  16.4s\n",
      "[CV 2/5] END .................C=0.1, gamma=0.001, kernel=rbf; total time=  17.1s\n",
      "[CV 3/5] END .................C=0.1, gamma=0.001, kernel=rbf; total time=  17.1s\n",
      "[CV 4/5] END .................C=0.1, gamma=0.001, kernel=rbf; total time=  16.3s\n",
      "[CV 5/5] END .................C=0.1, gamma=0.001, kernel=rbf; total time=  16.3s\n",
      "[CV 1/5] END ................C=0.1, gamma=0.0001, kernel=rbf; total time=  16.6s\n",
      "[CV 2/5] END ................C=0.1, gamma=0.0001, kernel=rbf; total time=  16.8s\n",
      "[CV 3/5] END ................C=0.1, gamma=0.0001, kernel=rbf; total time=  16.3s\n",
      "[CV 4/5] END ................C=0.1, gamma=0.0001, kernel=rbf; total time=  16.3s\n",
      "[CV 5/5] END ................C=0.1, gamma=0.0001, kernel=rbf; total time=  16.3s\n",
      "[CV 1/5] END .......................C=1, gamma=1, kernel=rbf; total time=  12.4s\n",
      "[CV 2/5] END .......................C=1, gamma=1, kernel=rbf; total time=  12.2s\n",
      "[CV 3/5] END .......................C=1, gamma=1, kernel=rbf; total time=  12.3s\n",
      "[CV 4/5] END .......................C=1, gamma=1, kernel=rbf; total time=  12.6s\n",
      "[CV 5/5] END .......................C=1, gamma=1, kernel=rbf; total time=  12.3s\n",
      "[CV 1/5] END .....................C=1, gamma=0.1, kernel=rbf; total time=  11.3s\n",
      "[CV 2/5] END .....................C=1, gamma=0.1, kernel=rbf; total time=  11.1s\n",
      "[CV 3/5] END .....................C=1, gamma=0.1, kernel=rbf; total time=  11.2s\n",
      "[CV 4/5] END .....................C=1, gamma=0.1, kernel=rbf; total time=  11.4s\n",
      "[CV 5/5] END .....................C=1, gamma=0.1, kernel=rbf; total time=  11.5s\n",
      "[CV 1/5] END ....................C=1, gamma=0.01, kernel=rbf; total time=  13.3s\n",
      "[CV 2/5] END ....................C=1, gamma=0.01, kernel=rbf; total time=  13.3s\n",
      "[CV 3/5] END ....................C=1, gamma=0.01, kernel=rbf; total time=  13.2s\n",
      "[CV 4/5] END ....................C=1, gamma=0.01, kernel=rbf; total time=  13.5s\n",
      "[CV 5/5] END ....................C=1, gamma=0.01, kernel=rbf; total time=  13.3s\n",
      "[CV 1/5] END ...................C=1, gamma=0.001, kernel=rbf; total time=  16.5s\n",
      "[CV 2/5] END ...................C=1, gamma=0.001, kernel=rbf; total time=  16.3s\n",
      "[CV 3/5] END ...................C=1, gamma=0.001, kernel=rbf; total time=  16.3s\n",
      "[CV 4/5] END ...................C=1, gamma=0.001, kernel=rbf; total time=  16.4s\n",
      "[CV 5/5] END ...................C=1, gamma=0.001, kernel=rbf; total time=  16.3s\n",
      "[CV 1/5] END ..................C=1, gamma=0.0001, kernel=rbf; total time=  16.3s\n",
      "[CV 2/5] END ..................C=1, gamma=0.0001, kernel=rbf; total time=  16.3s\n",
      "[CV 3/5] END ..................C=1, gamma=0.0001, kernel=rbf; total time=  16.3s\n",
      "[CV 4/5] END ..................C=1, gamma=0.0001, kernel=rbf; total time=  16.3s\n",
      "[CV 5/5] END ..................C=1, gamma=0.0001, kernel=rbf; total time=  16.2s\n",
      "[CV 1/5] END ......................C=10, gamma=1, kernel=rbf; total time=  12.3s\n",
      "[CV 2/5] END ......................C=10, gamma=1, kernel=rbf; total time=  12.1s\n",
      "[CV 3/5] END ......................C=10, gamma=1, kernel=rbf; total time=  12.0s\n",
      "[CV 4/5] END ......................C=10, gamma=1, kernel=rbf; total time=  12.0s\n",
      "[CV 5/5] END ......................C=10, gamma=1, kernel=rbf; total time=  12.3s\n",
      "[CV 1/5] END ....................C=10, gamma=0.1, kernel=rbf; total time=  11.2s\n",
      "[CV 2/5] END ....................C=10, gamma=0.1, kernel=rbf; total time=  11.1s\n",
      "[CV 3/5] END ....................C=10, gamma=0.1, kernel=rbf; total time=  11.1s\n",
      "[CV 4/5] END ....................C=10, gamma=0.1, kernel=rbf; total time=  11.2s\n",
      "[CV 5/5] END ....................C=10, gamma=0.1, kernel=rbf; total time=  11.0s\n",
      "[CV 1/5] END ...................C=10, gamma=0.01, kernel=rbf; total time=   9.9s\n",
      "[CV 2/5] END ...................C=10, gamma=0.01, kernel=rbf; total time=   9.8s\n",
      "[CV 3/5] END ...................C=10, gamma=0.01, kernel=rbf; total time=  10.0s\n",
      "[CV 4/5] END ...................C=10, gamma=0.01, kernel=rbf; total time=  10.0s\n",
      "[CV 5/5] END ...................C=10, gamma=0.01, kernel=rbf; total time=   9.8s\n",
      "[CV 1/5] END ..................C=10, gamma=0.001, kernel=rbf; total time=  13.5s\n",
      "[CV 2/5] END ..................C=10, gamma=0.001, kernel=rbf; total time=  13.2s\n",
      "[CV 3/5] END ..................C=10, gamma=0.001, kernel=rbf; total time=  12.9s\n",
      "[CV 4/5] END ..................C=10, gamma=0.001, kernel=rbf; total time=  13.1s\n",
      "[CV 5/5] END ..................C=10, gamma=0.001, kernel=rbf; total time=  12.9s\n",
      "[CV 1/5] END .................C=10, gamma=0.0001, kernel=rbf; total time=  15.7s\n",
      "[CV 2/5] END .................C=10, gamma=0.0001, kernel=rbf; total time=  15.6s\n",
      "[CV 3/5] END .................C=10, gamma=0.0001, kernel=rbf; total time=  15.6s\n",
      "[CV 4/5] END .................C=10, gamma=0.0001, kernel=rbf; total time=  15.6s\n",
      "[CV 5/5] END .................C=10, gamma=0.0001, kernel=rbf; total time=  15.5s\n",
      "[CV 1/5] END .....................C=100, gamma=1, kernel=rbf; total time=  11.8s\n",
      "[CV 2/5] END .....................C=100, gamma=1, kernel=rbf; total time=  11.6s\n",
      "[CV 3/5] END .....................C=100, gamma=1, kernel=rbf; total time=  11.6s\n",
      "[CV 4/5] END .....................C=100, gamma=1, kernel=rbf; total time=  11.5s\n",
      "[CV 5/5] END .....................C=100, gamma=1, kernel=rbf; total time=  11.6s\n",
      "[CV 1/5] END ...................C=100, gamma=0.1, kernel=rbf; total time=  10.4s\n",
      "[CV 2/5] END ...................C=100, gamma=0.1, kernel=rbf; total time=  10.4s\n",
      "[CV 3/5] END ...................C=100, gamma=0.1, kernel=rbf; total time=  10.4s\n",
      "[CV 4/5] END ...................C=100, gamma=0.1, kernel=rbf; total time=  10.3s\n",
      "[CV 5/5] END ...................C=100, gamma=0.1, kernel=rbf; total time=  10.6s\n",
      "[CV 1/5] END ..................C=100, gamma=0.01, kernel=rbf; total time=   7.6s\n",
      "[CV 2/5] END ..................C=100, gamma=0.01, kernel=rbf; total time=   7.6s\n",
      "[CV 3/5] END ..................C=100, gamma=0.01, kernel=rbf; total time=   7.5s\n",
      "[CV 4/5] END ..................C=100, gamma=0.01, kernel=rbf; total time=   7.7s\n",
      "[CV 5/5] END ..................C=100, gamma=0.01, kernel=rbf; total time=   7.4s\n",
      "[CV 1/5] END .................C=100, gamma=0.001, kernel=rbf; total time=   9.5s\n",
      "[CV 2/5] END .................C=100, gamma=0.001, kernel=rbf; total time=   9.3s\n",
      "[CV 3/5] END .................C=100, gamma=0.001, kernel=rbf; total time=   9.5s\n",
      "[CV 4/5] END .................C=100, gamma=0.001, kernel=rbf; total time=   9.5s\n",
      "[CV 5/5] END .................C=100, gamma=0.001, kernel=rbf; total time=   9.4s\n",
      "[CV 1/5] END ................C=100, gamma=0.0001, kernel=rbf; total time=  13.0s\n",
      "[CV 2/5] END ................C=100, gamma=0.0001, kernel=rbf; total time=  12.6s\n",
      "[CV 3/5] END ................C=100, gamma=0.0001, kernel=rbf; total time=  12.8s\n",
      "[CV 4/5] END ................C=100, gamma=0.0001, kernel=rbf; total time=  12.9s\n",
      "[CV 5/5] END ................C=100, gamma=0.0001, kernel=rbf; total time=  12.7s\n",
      "[CV 1/5] END ....................C=1000, gamma=1, kernel=rbf; total time=  11.8s\n"
     ]
    },
    {
     "name": "stdout",
     "output_type": "stream",
     "text": [
      "[CV 2/5] END ....................C=1000, gamma=1, kernel=rbf; total time=  11.5s\n",
      "[CV 3/5] END ....................C=1000, gamma=1, kernel=rbf; total time=  11.5s\n",
      "[CV 4/5] END ....................C=1000, gamma=1, kernel=rbf; total time=  11.5s\n",
      "[CV 5/5] END ....................C=1000, gamma=1, kernel=rbf; total time=  11.6s\n",
      "[CV 1/5] END ..................C=1000, gamma=0.1, kernel=rbf; total time=  10.4s\n",
      "[CV 2/5] END ..................C=1000, gamma=0.1, kernel=rbf; total time=  10.3s\n",
      "[CV 3/5] END ..................C=1000, gamma=0.1, kernel=rbf; total time=  10.1s\n",
      "[CV 4/5] END ..................C=1000, gamma=0.1, kernel=rbf; total time=  10.2s\n",
      "[CV 5/5] END ..................C=1000, gamma=0.1, kernel=rbf; total time=  10.2s\n",
      "[CV 1/5] END .................C=1000, gamma=0.01, kernel=rbf; total time=   7.5s\n",
      "[CV 2/5] END .................C=1000, gamma=0.01, kernel=rbf; total time=   7.4s\n",
      "[CV 3/5] END .................C=1000, gamma=0.01, kernel=rbf; total time=   7.2s\n",
      "[CV 4/5] END .................C=1000, gamma=0.01, kernel=rbf; total time=   7.5s\n",
      "[CV 5/5] END .................C=1000, gamma=0.01, kernel=rbf; total time=   7.2s\n",
      "[CV 1/5] END ................C=1000, gamma=0.001, kernel=rbf; total time=   6.8s\n",
      "[CV 2/5] END ................C=1000, gamma=0.001, kernel=rbf; total time=   8.1s\n",
      "[CV 3/5] END ................C=1000, gamma=0.001, kernel=rbf; total time=   8.0s\n",
      "[CV 4/5] END ................C=1000, gamma=0.001, kernel=rbf; total time=   8.3s\n",
      "[CV 5/5] END ................C=1000, gamma=0.001, kernel=rbf; total time=   8.0s\n",
      "[CV 1/5] END ...............C=1000, gamma=0.0001, kernel=rbf; total time=   9.9s\n",
      "[CV 2/5] END ...............C=1000, gamma=0.0001, kernel=rbf; total time=   9.8s\n",
      "[CV 3/5] END ...............C=1000, gamma=0.0001, kernel=rbf; total time=   9.9s\n",
      "[CV 4/5] END ...............C=1000, gamma=0.0001, kernel=rbf; total time=  10.0s\n",
      "[CV 5/5] END ...............C=1000, gamma=0.0001, kernel=rbf; total time=   9.9s\n"
     ]
    },
    {
     "data": {
      "text/plain": [
       "GridSearchCV(estimator=SVC(),\n",
       "             param_grid={'C': [0.1, 1, 10, 100, 1000],\n",
       "                         'gamma': [1, 0.1, 0.01, 0.001, 0.0001],\n",
       "                         'kernel': ['rbf']},\n",
       "             verbose=3)"
      ]
     },
     "execution_count": 30,
     "metadata": {},
     "output_type": "execute_result"
    }
   ],
   "source": [
    "\n",
    "# defining parameter range\n",
    "param_grid = {'C': [0.1, 1, 10, 100, 1000],\n",
    "\t\t\t'gamma': [1, 0.1, 0.01, 0.001, 0.0001],\n",
    "\t\t\t'kernel': ['rbf']}\n",
    "\n",
    "grid = GridSearchCV(SVC(), param_grid, refit = True, verbose = 3)\n",
    "\n",
    "# fitting the model for grid search\n",
    "grid.fit(X_train, y_train)\n"
   ]
  },
  {
   "cell_type": "code",
   "execution_count": 31,
   "id": "466f51e7",
   "metadata": {},
   "outputs": [
    {
     "name": "stdout",
     "output_type": "stream",
     "text": [
      "{'C': 10, 'gamma': 0.1, 'kernel': 'rbf'}\n",
      "SVC(C=10, gamma=0.1)\n"
     ]
    }
   ],
   "source": [
    "# print best parameter after tuning\n",
    "print(grid.best_params_)\n",
    " \n",
    "# print how our model looks after hyper-parameter tuning\n",
    "print(grid.best_estimator_)"
   ]
  },
  {
   "cell_type": "code",
   "execution_count": 32,
   "id": "2598880b",
   "metadata": {},
   "outputs": [
    {
     "name": "stdout",
     "output_type": "stream",
     "text": [
      "              precision    recall  f1-score   support\n",
      "\n",
      "    negative       0.84      0.88      0.86       529\n",
      "    positive       0.87      0.82      0.85       511\n",
      "\n",
      "    accuracy                           0.85      1040\n",
      "   macro avg       0.85      0.85      0.85      1040\n",
      "weighted avg       0.85      0.85      0.85      1040\n",
      "\n"
     ]
    }
   ],
   "source": [
    "grid_predictions = grid.predict(X_test)\n",
    "# print classification report\n",
    "print(classification_report(y_test, grid_predictions))"
   ]
  },
  {
   "cell_type": "markdown",
   "id": "9ea8a6e2",
   "metadata": {},
   "source": [
    "# Logistic Regression"
   ]
  },
  {
   "cell_type": "code",
   "execution_count": 33,
   "id": "47cc87e0",
   "metadata": {},
   "outputs": [
    {
     "name": "stdout",
     "output_type": "stream",
     "text": [
      "Training Accuracy : 0.9495192307692307\n",
      "Testing Accuracy : 0.8355769230769231\n"
     ]
    }
   ],
   "source": [
    "# Fitting Logistic Regression to the Training set\n",
    "log_reg = LogisticRegression()\n",
    "log_reg.fit(X_train, y_train)\n",
    "\n",
    "# calculating the classification accuracies\n",
    "print(\"Training Accuracy :\", model.score(X_train, y_train))\n",
    "print(\"Testing Accuracy :\", model.score(X_test, y_test))"
   ]
  },
  {
   "cell_type": "code",
   "execution_count": 34,
   "id": "eaaca7e2",
   "metadata": {},
   "outputs": [],
   "source": [
    "# Predicting the Test set results\n",
    "y_pred = log_reg.predict(X_test)"
   ]
  },
  {
   "cell_type": "code",
   "execution_count": 35,
   "id": "1caba88f",
   "metadata": {},
   "outputs": [
    {
     "name": "stdout",
     "output_type": "stream",
     "text": [
      "              precision    recall  f1-score   support\n",
      "\n",
      "    negative       0.82      0.82      0.82       529\n",
      "    positive       0.81      0.81      0.81       511\n",
      "\n",
      "    accuracy                           0.82      1040\n",
      "   macro avg       0.82      0.82      0.82      1040\n",
      "weighted avg       0.82      0.82      0.82      1040\n",
      "\n"
     ]
    }
   ],
   "source": [
    "print(classification_report(y_test, y_pred))"
   ]
  },
  {
   "cell_type": "code",
   "execution_count": 36,
   "id": "7417467c",
   "metadata": {},
   "outputs": [
    {
     "name": "stdout",
     "output_type": "stream",
     "text": [
      "---- Scores ----\n",
      "Accuracy score is: 81.63%\n"
     ]
    }
   ],
   "source": [
    "# Accuracy\n",
    "score_lg = accuracy_score(y_test,y_pred)\n",
    "print(\"---- Scores ----\")\n",
    "print(\"Accuracy score is: {}%\".format(round(score_lg*100,2)))"
   ]
  },
  {
   "cell_type": "code",
   "execution_count": 37,
   "id": "4389e679",
   "metadata": {},
   "outputs": [
    {
     "data": {
      "text/plain": [
       "array([[433,  96],\n",
       "       [ 95, 416]], dtype=int64)"
      ]
     },
     "execution_count": 37,
     "metadata": {},
     "output_type": "execute_result"
    }
   ],
   "source": [
    "# Making the Confusion Matrix\n",
    "cm = confusion_matrix(y_test, y_pred)\n",
    "cm"
   ]
  },
  {
   "cell_type": "code",
   "execution_count": 50,
   "id": "aca91d7a",
   "metadata": {
    "scrolled": true
   },
   "outputs": [
    {
     "data": {
      "text/plain": [
       "GridSearchCV(cv=RepeatedStratifiedKFold(n_repeats=3, n_splits=10, random_state=1),\n",
       "             estimator=LogisticRegression(), n_jobs=-1,\n",
       "             param_grid={'C': [0.01, 0.1, 1, 10, 100], 'penalty': ['l2'],\n",
       "                         'solver': ['lbfgs']},\n",
       "             scoring='accuracy')"
      ]
     },
     "execution_count": 50,
     "metadata": {},
     "output_type": "execute_result"
    }
   ],
   "source": [
    "cv = RepeatedStratifiedKFold(n_splits=10, n_repeats=3, random_state=1)\n",
    "# defining parameter range\n",
    "param_grid = {'solver': ['lbfgs'],\n",
    "\t\t\t'penalty': ['l2'],\n",
    "\t\t\t'C': [0.01, 0.1, 1, 10, 100]}\n",
    "\n",
    "grid = GridSearchCV(log_reg, param_grid, scoring='accuracy', n_jobs=-1, cv=cv)\n",
    "\n",
    "# fitting the model for grid search\n",
    "grid.fit(X_train, y_train)"
   ]
  },
  {
   "cell_type": "code",
   "execution_count": 51,
   "id": "05519b90",
   "metadata": {},
   "outputs": [
    {
     "name": "stdout",
     "output_type": "stream",
     "text": [
      "{'C': 1, 'penalty': 'l2', 'solver': 'lbfgs'}\n",
      "LogisticRegression(C=1)\n"
     ]
    }
   ],
   "source": [
    "# print best parameter after tuning\n",
    "print(grid.best_params_)\n",
    " \n",
    "# print how our model looks after hyper-parameter tuning\n",
    "print(grid.best_estimator_)"
   ]
  },
  {
   "cell_type": "code",
   "execution_count": 52,
   "id": "13379496",
   "metadata": {},
   "outputs": [
    {
     "name": "stdout",
     "output_type": "stream",
     "text": [
      "              precision    recall  f1-score   support\n",
      "\n",
      "    negative       0.82      0.82      0.82       529\n",
      "    positive       0.81      0.81      0.81       511\n",
      "\n",
      "    accuracy                           0.82      1040\n",
      "   macro avg       0.82      0.82      0.82      1040\n",
      "weighted avg       0.82      0.82      0.82      1040\n",
      "\n"
     ]
    }
   ],
   "source": [
    "grid_predictions_lg = grid.predict(X_test)\n",
    "# print classification report\n",
    "print(classification_report(y_test, grid_predictions_lg))"
   ]
  },
  {
   "cell_type": "markdown",
   "id": "03cadef0",
   "metadata": {},
   "source": [
    "# Random Forest"
   ]
  },
  {
   "cell_type": "code",
   "execution_count": 53,
   "id": "f2caae51",
   "metadata": {},
   "outputs": [
    {
     "name": "stdout",
     "output_type": "stream",
     "text": [
      "Training Accuracy : 0.9788461538461538\n",
      "Testing Accuracy : 0.8403846153846154\n"
     ]
    }
   ],
   "source": [
    "model = RandomForestClassifier()\n",
    "model.fit(X_train, y_train)\n",
    "\n",
    "# calculating the classification accuracies\n",
    "print(\"Training Accuracy :\", model.score(X_train, y_train))\n",
    "print(\"Testing Accuracy :\", model.score(X_test, y_test))"
   ]
  },
  {
   "cell_type": "code",
   "execution_count": 54,
   "id": "04017843",
   "metadata": {},
   "outputs": [],
   "source": [
    "# Predicting the Test set results\n",
    "y_pred = model.predict(X_test)"
   ]
  },
  {
   "cell_type": "code",
   "execution_count": 55,
   "id": "9e2b2526",
   "metadata": {},
   "outputs": [
    {
     "name": "stdout",
     "output_type": "stream",
     "text": [
      "              precision    recall  f1-score   support\n",
      "\n",
      "    negative       0.84      0.85      0.84       529\n",
      "    positive       0.84      0.83      0.84       511\n",
      "\n",
      "    accuracy                           0.84      1040\n",
      "   macro avg       0.84      0.84      0.84      1040\n",
      "weighted avg       0.84      0.84      0.84      1040\n",
      "\n"
     ]
    }
   ],
   "source": [
    "print(classification_report(y_test, y_pred))"
   ]
  },
  {
   "cell_type": "code",
   "execution_count": 56,
   "id": "74262237",
   "metadata": {},
   "outputs": [
    {
     "name": "stdout",
     "output_type": "stream",
     "text": [
      "---- Scores ----\n",
      "Accuracy score is: 84.04%\n"
     ]
    }
   ],
   "source": [
    "# Accuracy\n",
    "score = accuracy_score(y_test,y_pred)\n",
    "print(\"---- Scores ----\")\n",
    "print(\"Accuracy score is: {}%\".format(round(score*100,2)))"
   ]
  },
  {
   "cell_type": "code",
   "execution_count": 57,
   "id": "2fadb0df",
   "metadata": {},
   "outputs": [
    {
     "data": {
      "text/plain": [
       "array([[451,  78],\n",
       "       [ 88, 423]], dtype=int64)"
      ]
     },
     "execution_count": 57,
     "metadata": {},
     "output_type": "execute_result"
    }
   ],
   "source": [
    "# Making the Confusion Matrix\n",
    "cm = confusion_matrix(y_test, y_pred)\n",
    "cm"
   ]
  },
  {
   "cell_type": "code",
   "execution_count": 58,
   "id": "005c76ae",
   "metadata": {},
   "outputs": [
    {
     "name": "stdout",
     "output_type": "stream",
     "text": [
      "Fitting 5 folds for each of 6 candidates, totalling 30 fits\n",
      "[CV 1/5] END .............max_features=sqrt, n_estimators=10; total time=   0.9s\n",
      "[CV 2/5] END .............max_features=sqrt, n_estimators=10; total time=   0.9s\n",
      "[CV 3/5] END .............max_features=sqrt, n_estimators=10; total time=   0.9s\n",
      "[CV 4/5] END .............max_features=sqrt, n_estimators=10; total time=   0.9s\n",
      "[CV 5/5] END .............max_features=sqrt, n_estimators=10; total time=   0.7s\n",
      "[CV 1/5] END ............max_features=sqrt, n_estimators=100; total time=   8.3s\n",
      "[CV 2/5] END ............max_features=sqrt, n_estimators=100; total time=   8.4s\n",
      "[CV 3/5] END ............max_features=sqrt, n_estimators=100; total time=   8.3s\n",
      "[CV 4/5] END ............max_features=sqrt, n_estimators=100; total time=   8.4s\n",
      "[CV 5/5] END ............max_features=sqrt, n_estimators=100; total time=   8.2s\n",
      "[CV 1/5] END ...........max_features=sqrt, n_estimators=1000; total time= 1.4min\n",
      "[CV 2/5] END ...........max_features=sqrt, n_estimators=1000; total time= 1.4min\n",
      "[CV 3/5] END ...........max_features=sqrt, n_estimators=1000; total time= 1.4min\n",
      "[CV 4/5] END ...........max_features=sqrt, n_estimators=1000; total time= 1.4min\n",
      "[CV 5/5] END ...........max_features=sqrt, n_estimators=1000; total time= 1.4min\n",
      "[CV 1/5] END .............max_features=log2, n_estimators=10; total time=   0.4s\n",
      "[CV 2/5] END .............max_features=log2, n_estimators=10; total time=   0.5s\n",
      "[CV 3/5] END .............max_features=log2, n_estimators=10; total time=   0.5s\n",
      "[CV 4/5] END .............max_features=log2, n_estimators=10; total time=   0.6s\n",
      "[CV 5/5] END .............max_features=log2, n_estimators=10; total time=   0.5s\n",
      "[CV 1/5] END ............max_features=log2, n_estimators=100; total time=   5.2s\n",
      "[CV 2/5] END ............max_features=log2, n_estimators=100; total time=   4.7s\n",
      "[CV 3/5] END ............max_features=log2, n_estimators=100; total time=   4.6s\n",
      "[CV 4/5] END ............max_features=log2, n_estimators=100; total time=   4.8s\n",
      "[CV 5/5] END ............max_features=log2, n_estimators=100; total time=   4.6s\n",
      "[CV 1/5] END ...........max_features=log2, n_estimators=1000; total time=  46.9s\n",
      "[CV 2/5] END ...........max_features=log2, n_estimators=1000; total time=  48.3s\n",
      "[CV 3/5] END ...........max_features=log2, n_estimators=1000; total time=  48.2s\n",
      "[CV 4/5] END ...........max_features=log2, n_estimators=1000; total time=  49.8s\n",
      "[CV 5/5] END ...........max_features=log2, n_estimators=1000; total time=  48.6s\n"
     ]
    },
    {
     "data": {
      "text/plain": [
       "GridSearchCV(estimator=RandomForestClassifier(),\n",
       "             param_grid={'max_features': ['sqrt', 'log2'],\n",
       "                         'n_estimators': [10, 100, 1000]},\n",
       "             verbose=3)"
      ]
     },
     "execution_count": 58,
     "metadata": {},
     "output_type": "execute_result"
    }
   ],
   "source": [
    "# defining parameter range\n",
    "param_grid = {'n_estimators': [10, 100, 1000],\n",
    "\t\t\t'max_features': ['sqrt', 'log2']}\n",
    "\n",
    "grid = GridSearchCV(RandomForestClassifier(), param_grid, refit = True, verbose = 3)\n",
    "\n",
    "# fitting the model for grid search\n",
    "grid.fit(X_train, y_train)"
   ]
  },
  {
   "cell_type": "code",
   "execution_count": 59,
   "id": "fb58d157",
   "metadata": {},
   "outputs": [
    {
     "name": "stdout",
     "output_type": "stream",
     "text": [
      "              precision    recall  f1-score   support\n",
      "\n",
      "    negative       0.84      0.88      0.86       529\n",
      "    positive       0.87      0.82      0.84       511\n",
      "\n",
      "    accuracy                           0.85      1040\n",
      "   macro avg       0.85      0.85      0.85      1040\n",
      "weighted avg       0.85      0.85      0.85      1040\n",
      "\n"
     ]
    }
   ],
   "source": [
    "grid_predictions_rf = grid.predict(X_test)\n",
    "# print classification report\n",
    "print(classification_report(y_test, grid_predictions_rf))"
   ]
  },
  {
   "cell_type": "code",
   "execution_count": 60,
   "id": "abdcf278",
   "metadata": {},
   "outputs": [
    {
     "name": "stdout",
     "output_type": "stream",
     "text": [
      "{'max_features': 'log2', 'n_estimators': 1000}\n",
      "RandomForestClassifier(max_features='log2', n_estimators=1000)\n"
     ]
    }
   ],
   "source": [
    "# print best parameter after tuning\n",
    "print(grid.best_params_)\n",
    " \n",
    "# print how our model looks after hyper-parameter tuning\n",
    "print(grid.best_estimator_)"
   ]
  },
  {
   "cell_type": "markdown",
   "id": "e73df434",
   "metadata": {},
   "source": [
    "## XGBoost Classfier"
   ]
  },
  {
   "cell_type": "code",
   "execution_count": 62,
   "id": "79e53c62",
   "metadata": {},
   "outputs": [],
   "source": [
    "cv = CountVectorizer(max_features=1500)\n",
    "X = cv.fit_transform(messages.feedback).toarray()\n",
    "y = messages['sentiment'].values\n",
    "X_train, X_test, y_train, y_test = train_test_split(X, y, test_size = 0.20, random_state = 0)"
   ]
  },
  {
   "cell_type": "code",
   "execution_count": 63,
   "id": "d966a50a",
   "metadata": {},
   "outputs": [
    {
     "name": "stderr",
     "output_type": "stream",
     "text": [
      "D:\\Software\\Anaconda\\lib\\site-packages\\xgboost\\sklearn.py:1224: UserWarning: The use of label encoder in XGBClassifier is deprecated and will be removed in a future release. To remove this warning, do the following: 1) Pass option use_label_encoder=False when constructing XGBClassifier object; and 2) Encode your labels (y) as integers starting with 0, i.e. 0, 1, 2, ..., [num_class - 1].\n",
      "  warnings.warn(label_encoder_deprecation_msg, UserWarning)\n"
     ]
    },
    {
     "name": "stdout",
     "output_type": "stream",
     "text": [
      "[16:16:18] WARNING: C:/Users/Administrator/workspace/xgboost-win64_release_1.5.1/src/learner.cc:1115: Starting in XGBoost 1.3.0, the default evaluation metric used with the objective 'binary:logistic' was changed from 'error' to 'logloss'. Explicitly set eval_metric if you'd like to restore the old behavior.\n"
     ]
    },
    {
     "data": {
      "text/plain": [
       "XGBClassifier(base_score=0.5, booster='gbtree', colsample_bylevel=1,\n",
       "              colsample_bynode=1, colsample_bytree=1, enable_categorical=False,\n",
       "              gamma=0, gpu_id=-1, importance_type=None,\n",
       "              interaction_constraints='', learning_rate=0.300000012,\n",
       "              max_delta_step=0, max_depth=6, min_child_weight=1, missing=nan,\n",
       "              monotone_constraints='()', n_estimators=100, n_jobs=8,\n",
       "              num_parallel_tree=1, predictor='auto', random_state=0,\n",
       "              reg_alpha=0, reg_lambda=1, scale_pos_weight=1, subsample=1,\n",
       "              tree_method='exact', validate_parameters=1, verbosity=None)"
      ]
     },
     "execution_count": 63,
     "metadata": {},
     "output_type": "execute_result"
    }
   ],
   "source": [
    "model = XGBClassifier()\n",
    "model.fit(X_train, y_train)"
   ]
  },
  {
   "cell_type": "code",
   "execution_count": 64,
   "id": "7d26c16c",
   "metadata": {},
   "outputs": [],
   "source": [
    "count_df = pd.DataFrame(X_train, columns=cv.get_feature_names())\n",
    "count_df['etiket'] = y_train"
   ]
  },
  {
   "cell_type": "code",
   "execution_count": 65,
   "id": "96e053be",
   "metadata": {},
   "outputs": [
    {
     "name": "stdout",
     "output_type": "stream",
     "text": [
      "[16:16:24] WARNING: C:/Users/Administrator/workspace/xgboost-win64_release_1.5.1/src/learner.cc:1115: Starting in XGBoost 1.3.0, the default evaluation metric used with the objective 'binary:logistic' was changed from 'error' to 'logloss'. Explicitly set eval_metric if you'd like to restore the old behavior.\n",
      "Accuracy: 80.38%\n"
     ]
    }
   ],
   "source": [
    "# fit model no training data\n",
    "\n",
    "model = XGBClassifier()\n",
    "model.fit(X_train, y_train)\n",
    "\n",
    "# make predictions for test data\n",
    "\n",
    "y_pred = model.predict(X_test)\n",
    "predictions = [round(value) for value in y_pred]\n",
    "\n",
    "# evaluate predictions\n",
    "\n",
    "accuracy = accuracy_score(y_test, predictions)\n",
    "print(\"Accuracy: %.2f%%\" % (accuracy * 100.0))"
   ]
  },
  {
   "cell_type": "code",
   "execution_count": null,
   "id": "40c280d8",
   "metadata": {},
   "outputs": [
    {
     "name": "stdout",
     "output_type": "stream",
     "text": [
      "[20:25:14] WARNING: C:/Users/Administrator/workspace/xgboost-win64_release_1.5.1/src/objective/regression_obj.cu:188: reg:linear is now deprecated in favor of reg:squarederror.\n",
      "[0]\tTest-mae:0.46433\n",
      "[1]\tTest-mae:0.43808\n",
      "[2]\tTest-mae:0.41896\n",
      "[3]\tTest-mae:0.40873\n",
      "[4]\tTest-mae:0.40153\n",
      "[5]\tTest-mae:0.39633\n",
      "[6]\tTest-mae:0.38930\n",
      "[7]\tTest-mae:0.38464\n",
      "[8]\tTest-mae:0.38173\n",
      "[9]\tTest-mae:0.37849\n",
      "[10]\tTest-mae:0.37512\n",
      "[11]\tTest-mae:0.37184\n",
      "[12]\tTest-mae:0.36902\n",
      "[13]\tTest-mae:0.36667\n",
      "[14]\tTest-mae:0.36435\n",
      "[15]\tTest-mae:0.36059\n",
      "[16]\tTest-mae:0.35829\n",
      "[17]\tTest-mae:0.35665\n",
      "[18]\tTest-mae:0.35450\n",
      "[19]\tTest-mae:0.35265\n",
      "[20]\tTest-mae:0.35006\n",
      "[21]\tTest-mae:0.34875\n",
      "[22]\tTest-mae:0.34719\n",
      "[23]\tTest-mae:0.34382\n",
      "[24]\tTest-mae:0.34277\n",
      "[25]\tTest-mae:0.34161\n",
      "[26]\tTest-mae:0.34095\n",
      "[27]\tTest-mae:0.34077\n",
      "[28]\tTest-mae:0.33919\n",
      "[29]\tTest-mae:0.33805\n",
      "[30]\tTest-mae:0.33468\n",
      "[31]\tTest-mae:0.33405\n",
      "[32]\tTest-mae:0.33255\n",
      "[33]\tTest-mae:0.33087\n",
      "[34]\tTest-mae:0.32972\n",
      "[35]\tTest-mae:0.32881\n",
      "[36]\tTest-mae:0.32793\n",
      "[37]\tTest-mae:0.32685\n",
      "[38]\tTest-mae:0.32679\n",
      "[39]\tTest-mae:0.32578\n",
      "[40]\tTest-mae:0.32508\n",
      "[41]\tTest-mae:0.32432\n",
      "[42]\tTest-mae:0.32348\n",
      "[43]\tTest-mae:0.32233\n",
      "[44]\tTest-mae:0.32273\n",
      "[45]\tTest-mae:0.32221\n",
      "[46]\tTest-mae:0.32157\n",
      "[47]\tTest-mae:0.32030\n",
      "[48]\tTest-mae:0.31998\n",
      "[49]\tTest-mae:0.31905\n",
      "[50]\tTest-mae:0.31840\n",
      "[51]\tTest-mae:0.31745\n",
      "[52]\tTest-mae:0.31692\n",
      "[53]\tTest-mae:0.31655\n",
      "[54]\tTest-mae:0.31572\n",
      "[55]\tTest-mae:0.31575\n",
      "[56]\tTest-mae:0.31496\n",
      "[57]\tTest-mae:0.31444\n",
      "[58]\tTest-mae:0.31452\n",
      "[59]\tTest-mae:0.31406\n",
      "[60]\tTest-mae:0.31336\n",
      "[61]\tTest-mae:0.31294\n",
      "[62]\tTest-mae:0.31229\n",
      "[63]\tTest-mae:0.30978\n",
      "[64]\tTest-mae:0.30883\n",
      "[65]\tTest-mae:0.30849\n",
      "[66]\tTest-mae:0.30728\n",
      "[67]\tTest-mae:0.30666\n",
      "[68]\tTest-mae:0.30602\n",
      "[69]\tTest-mae:0.30483\n",
      "[70]\tTest-mae:0.30388\n",
      "[71]\tTest-mae:0.30363\n",
      "[72]\tTest-mae:0.30302\n",
      "[73]\tTest-mae:0.30279\n",
      "[74]\tTest-mae:0.30309\n",
      "[75]\tTest-mae:0.30286\n",
      "[76]\tTest-mae:0.30224\n",
      "[77]\tTest-mae:0.30188\n",
      "[78]\tTest-mae:0.30159\n",
      "[79]\tTest-mae:0.30118\n",
      "[80]\tTest-mae:0.30032\n",
      "[81]\tTest-mae:0.29930\n",
      "[82]\tTest-mae:0.29838\n",
      "[83]\tTest-mae:0.29845\n",
      "[84]\tTest-mae:0.29861\n",
      "[85]\tTest-mae:0.29793\n",
      "[86]\tTest-mae:0.29751\n",
      "[87]\tTest-mae:0.29704\n",
      "[88]\tTest-mae:0.29700\n",
      "[89]\tTest-mae:0.29722\n",
      "[90]\tTest-mae:0.29586\n",
      "[91]\tTest-mae:0.29570\n",
      "[92]\tTest-mae:0.29484\n",
      "[93]\tTest-mae:0.29463\n",
      "[94]\tTest-mae:0.29470\n",
      "[95]\tTest-mae:0.29444\n",
      "[96]\tTest-mae:0.29387\n",
      "[97]\tTest-mae:0.29368\n",
      "[98]\tTest-mae:0.29345\n",
      "[99]\tTest-mae:0.29289\n",
      "[100]\tTest-mae:0.29263\n",
      "[101]\tTest-mae:0.29226\n",
      "[102]\tTest-mae:0.29174\n",
      "[103]\tTest-mae:0.29139\n",
      "[104]\tTest-mae:0.29110\n",
      "[105]\tTest-mae:0.29065\n",
      "[106]\tTest-mae:0.29052\n",
      "[107]\tTest-mae:0.29010\n",
      "[108]\tTest-mae:0.28949\n",
      "[109]\tTest-mae:0.28949\n",
      "[110]\tTest-mae:0.28925\n",
      "[111]\tTest-mae:0.28876\n",
      "[112]\tTest-mae:0.28834\n",
      "[113]\tTest-mae:0.28812\n",
      "[114]\tTest-mae:0.28761\n",
      "[115]\tTest-mae:0.28722\n",
      "[116]\tTest-mae:0.28657\n",
      "[117]\tTest-mae:0.28614\n",
      "[118]\tTest-mae:0.28592\n",
      "[119]\tTest-mae:0.28540\n",
      "[120]\tTest-mae:0.28499\n",
      "[121]\tTest-mae:0.28469\n",
      "[122]\tTest-mae:0.28475\n",
      "[123]\tTest-mae:0.28355\n",
      "[124]\tTest-mae:0.28315\n",
      "[125]\tTest-mae:0.28291\n",
      "[126]\tTest-mae:0.28269\n",
      "[127]\tTest-mae:0.28255\n",
      "[128]\tTest-mae:0.28211\n",
      "[129]\tTest-mae:0.28198\n",
      "[130]\tTest-mae:0.28148\n",
      "[131]\tTest-mae:0.28160\n",
      "[132]\tTest-mae:0.28118\n",
      "[133]\tTest-mae:0.28096\n",
      "[134]\tTest-mae:0.28091\n",
      "[135]\tTest-mae:0.28093\n",
      "[136]\tTest-mae:0.28068\n",
      "[137]\tTest-mae:0.28026\n",
      "[138]\tTest-mae:0.28017\n",
      "[139]\tTest-mae:0.27967\n",
      "[140]\tTest-mae:0.27964\n",
      "[141]\tTest-mae:0.27927\n",
      "[142]\tTest-mae:0.27894\n",
      "[143]\tTest-mae:0.27855\n",
      "[144]\tTest-mae:0.27892\n",
      "[145]\tTest-mae:0.27878\n",
      "[146]\tTest-mae:0.27843\n",
      "[147]\tTest-mae:0.27824\n",
      "[148]\tTest-mae:0.27811\n",
      "[149]\tTest-mae:0.27786\n",
      "[150]\tTest-mae:0.27762\n",
      "[151]\tTest-mae:0.27763\n",
      "[152]\tTest-mae:0.27768\n",
      "[153]\tTest-mae:0.27764\n",
      "[154]\tTest-mae:0.27758\n",
      "[155]\tTest-mae:0.27736\n",
      "[156]\tTest-mae:0.27716\n",
      "[157]\tTest-mae:0.27690\n",
      "[158]\tTest-mae:0.27679\n",
      "[159]\tTest-mae:0.27640\n",
      "[160]\tTest-mae:0.27598\n",
      "[161]\tTest-mae:0.27572\n",
      "[162]\tTest-mae:0.27557\n",
      "[163]\tTest-mae:0.27525\n",
      "[164]\tTest-mae:0.27460\n",
      "[165]\tTest-mae:0.27447\n",
      "[166]\tTest-mae:0.27434\n",
      "[167]\tTest-mae:0.27450\n",
      "[168]\tTest-mae:0.27420\n",
      "[169]\tTest-mae:0.27389\n",
      "[170]\tTest-mae:0.27367\n",
      "[171]\tTest-mae:0.27348\n",
      "[172]\tTest-mae:0.27337\n",
      "[173]\tTest-mae:0.27311\n",
      "[174]\tTest-mae:0.27292\n",
      "[175]\tTest-mae:0.27269\n",
      "[176]\tTest-mae:0.27259\n",
      "[177]\tTest-mae:0.27269\n",
      "[178]\tTest-mae:0.27263\n",
      "[179]\tTest-mae:0.27232\n",
      "[180]\tTest-mae:0.27253\n",
      "[181]\tTest-mae:0.27219\n",
      "[182]\tTest-mae:0.27204\n",
      "[183]\tTest-mae:0.27191\n",
      "[184]\tTest-mae:0.27098\n",
      "[185]\tTest-mae:0.27058\n",
      "[186]\tTest-mae:0.27053\n",
      "[187]\tTest-mae:0.27046\n",
      "[188]\tTest-mae:0.27028\n",
      "[189]\tTest-mae:0.27015\n",
      "[190]\tTest-mae:0.27053\n",
      "[191]\tTest-mae:0.27041\n",
      "[192]\tTest-mae:0.27036\n",
      "[193]\tTest-mae:0.27035\n",
      "[194]\tTest-mae:0.27035\n",
      "[195]\tTest-mae:0.27049\n",
      "[196]\tTest-mae:0.27040\n",
      "[197]\tTest-mae:0.27045\n",
      "[198]\tTest-mae:0.27024\n",
      "[199]\tTest-mae:0.27035\n",
      "CV with max_depth=9, min_child_weight=5\n",
      "[20:25:40] WARNING: C:/Users/Administrator/workspace/xgboost-win64_release_1.5.1/src/objective/regression_obj.cu:188: reg:linear is now deprecated in favor of reg:squarederror.\n",
      "[20:25:40] WARNING: C:/Users/Administrator/workspace/xgboost-win64_release_1.5.1/src/objective/regression_obj.cu:188: reg:linear is now deprecated in favor of reg:squarederror.\n",
      "[20:25:41] WARNING: C:/Users/Administrator/workspace/xgboost-win64_release_1.5.1/src/objective/regression_obj.cu:188: reg:linear is now deprecated in favor of reg:squarederror.\n",
      "[20:25:41] WARNING: C:/Users/Administrator/workspace/xgboost-win64_release_1.5.1/src/objective/regression_obj.cu:188: reg:linear is now deprecated in favor of reg:squarederror.\n",
      "[20:25:41] WARNING: C:/Users/Administrator/workspace/xgboost-win64_release_1.5.1/src/objective/regression_obj.cu:188: reg:linear is now deprecated in favor of reg:squarederror.\n"
     ]
    }
   ],
   "source": [
    "import xgboost as xgb\n",
    "dtrain = xgb.DMatrix(X_train, label=y_train)\n",
    "dtest = xgb.DMatrix(X_test, label=y_test)\n",
    "\n",
    "gridsearch_params = [\n",
    "    (max_depth, min_child_weight)\n",
    "    for max_depth in range(9,12)\n",
    "    for min_child_weight in range(5,8)\n",
    "]\n",
    "params = {\n",
    "    # Parameters that we are going to tune.\n",
    "    'max_depth':6,\n",
    "    'min_child_weight': 1,\n",
    "    'eta':.3,\n",
    "    'subsample': 1,\n",
    "    'colsample_bytree': 1,\n",
    "    # Other parameters\n",
    "    'objective':'reg:linear',\n",
    "}\n",
    "num_boost_round = 999\n",
    "params['eval_metric'] = \"mae\"\n",
    "xgb.DMatrix(X, label=y)\n",
    "model = xgb.train(\n",
    "    params,\n",
    "    dtrain,\n",
    "    num_boost_round=num_boost_round,\n",
    "    evals=[(dtest, \"Test\")],\n",
    "    early_stopping_rounds=10\n",
    ")\n",
    "# Define initial best params and MAE\n",
    "min_mae = float(\"Inf\")\n",
    "best_params = None\n",
    "for max_depth, min_child_weight in gridsearch_params:\n",
    "    print(\"CV with max_depth={}, min_child_weight={}\".format(\n",
    "                             max_depth,\n",
    "                             min_child_weight))\n",
    "    # Update our parameters\n",
    "    params['max_depth'] = max_depth\n",
    "    params['min_child_weight'] = min_child_weight\n",
    "    # Run CV\n",
    "    cv_results = xgb.cv(\n",
    "        params,\n",
    "        dtrain,\n",
    "        num_boost_round=num_boost_round,\n",
    "        seed=42,\n",
    "        nfold=5,\n",
    "        metrics={'mae'},\n",
    "        early_stopping_rounds=10\n",
    "    )\n",
    "    # Update best MAE\n",
    "    mean_mae = cv_results['test-mae-mean'].min()\n",
    "    boost_rounds = cv_results['test-mae-mean'].argmin()\n",
    "    print(\"\\tMAE {} for {} rounds\".format(mean_mae, boost_rounds))\n",
    "    if mean_mae < min_mae:\n",
    "        min_mae = mean_mae\n",
    "        best_params = (max_depth,min_child_weight)\n",
    "print(\"Best params: {}, {}, MAE: {}\".format(best_params[0], best_params[1], min_mae))"
   ]
  },
  {
   "cell_type": "code",
   "execution_count": null,
   "id": "d750d931",
   "metadata": {},
   "outputs": [],
   "source": []
  },
  {
   "cell_type": "code",
   "execution_count": null,
   "id": "d8878759",
   "metadata": {},
   "outputs": [],
   "source": []
  },
  {
   "cell_type": "code",
   "execution_count": null,
   "id": "c6fa8f33",
   "metadata": {},
   "outputs": [],
   "source": []
  },
  {
   "cell_type": "code",
   "execution_count": null,
   "id": "76f835c9",
   "metadata": {},
   "outputs": [],
   "source": []
  },
  {
   "cell_type": "code",
   "execution_count": null,
   "id": "acc2b27e",
   "metadata": {},
   "outputs": [],
   "source": []
  },
  {
   "cell_type": "code",
   "execution_count": null,
   "id": "c6623dff",
   "metadata": {},
   "outputs": [],
   "source": []
  }
 ],
 "metadata": {
  "kernelspec": {
   "display_name": "Python 3",
   "language": "python",
   "name": "python3"
  },
  "language_info": {
   "codemirror_mode": {
    "name": "ipython",
    "version": 3
   },
   "file_extension": ".py",
   "mimetype": "text/x-python",
   "name": "python",
   "nbconvert_exporter": "python",
   "pygments_lexer": "ipython3",
   "version": "3.8.8"
  }
 },
 "nbformat": 4,
 "nbformat_minor": 5
}
